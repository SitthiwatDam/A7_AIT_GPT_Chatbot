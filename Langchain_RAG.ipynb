{
  "cells": [
    {
      "cell_type": "markdown",
      "metadata": {
        "id": "7MmXQzuI4BLK"
      },
      "source": [
        "# Retrieval-Augmented Generation(RAG)"
      ]
    },
    {
      "cell_type": "code",
      "execution_count": 1,
      "metadata": {
        "colab": {
          "base_uri": "https://localhost:8080/"
        },
        "id": "9oA3l0fO4BLL",
        "outputId": "31dfd8b1-9357-4144-d39d-0d6622644bc3"
      },
      "outputs": [
        {
          "output_type": "stream",
          "name": "stdout",
          "text": [
            "Requirement already satisfied: langchain==0.1.0 in /usr/local/lib/python3.10/dist-packages (0.1.0)\n",
            "Requirement already satisfied: PyYAML>=5.3 in /usr/local/lib/python3.10/dist-packages (from langchain==0.1.0) (6.0.1)\n",
            "Requirement already satisfied: SQLAlchemy<3,>=1.4 in /usr/local/lib/python3.10/dist-packages (from langchain==0.1.0) (2.0.28)\n",
            "Requirement already satisfied: aiohttp<4.0.0,>=3.8.3 in /usr/local/lib/python3.10/dist-packages (from langchain==0.1.0) (3.9.3)\n",
            "Requirement already satisfied: async-timeout<5.0.0,>=4.0.0 in /usr/local/lib/python3.10/dist-packages (from langchain==0.1.0) (4.0.3)\n",
            "Requirement already satisfied: dataclasses-json<0.7,>=0.5.7 in /usr/local/lib/python3.10/dist-packages (from langchain==0.1.0) (0.6.4)\n",
            "Requirement already satisfied: jsonpatch<2.0,>=1.33 in /usr/local/lib/python3.10/dist-packages (from langchain==0.1.0) (1.33)\n",
            "Requirement already satisfied: langchain-community<0.1,>=0.0.9 in /usr/local/lib/python3.10/dist-packages (from langchain==0.1.0) (0.0.20)\n",
            "Requirement already satisfied: langchain-core<0.2,>=0.1.7 in /usr/local/lib/python3.10/dist-packages (from langchain==0.1.0) (0.1.23)\n",
            "Requirement already satisfied: langsmith<0.1.0,>=0.0.77 in /usr/local/lib/python3.10/dist-packages (from langchain==0.1.0) (0.0.87)\n",
            "Requirement already satisfied: numpy<2,>=1 in /usr/local/lib/python3.10/dist-packages (from langchain==0.1.0) (1.25.2)\n",
            "Requirement already satisfied: pydantic<3,>=1 in /usr/local/lib/python3.10/dist-packages (from langchain==0.1.0) (2.6.4)\n",
            "Requirement already satisfied: requests<3,>=2 in /usr/local/lib/python3.10/dist-packages (from langchain==0.1.0) (2.31.0)\n",
            "Requirement already satisfied: tenacity<9.0.0,>=8.1.0 in /usr/local/lib/python3.10/dist-packages (from langchain==0.1.0) (8.2.3)\n",
            "Requirement already satisfied: aiosignal>=1.1.2 in /usr/local/lib/python3.10/dist-packages (from aiohttp<4.0.0,>=3.8.3->langchain==0.1.0) (1.3.1)\n",
            "Requirement already satisfied: attrs>=17.3.0 in /usr/local/lib/python3.10/dist-packages (from aiohttp<4.0.0,>=3.8.3->langchain==0.1.0) (23.2.0)\n",
            "Requirement already satisfied: frozenlist>=1.1.1 in /usr/local/lib/python3.10/dist-packages (from aiohttp<4.0.0,>=3.8.3->langchain==0.1.0) (1.4.1)\n",
            "Requirement already satisfied: multidict<7.0,>=4.5 in /usr/local/lib/python3.10/dist-packages (from aiohttp<4.0.0,>=3.8.3->langchain==0.1.0) (6.0.5)\n",
            "Requirement already satisfied: yarl<2.0,>=1.0 in /usr/local/lib/python3.10/dist-packages (from aiohttp<4.0.0,>=3.8.3->langchain==0.1.0) (1.9.4)\n",
            "Requirement already satisfied: marshmallow<4.0.0,>=3.18.0 in /usr/local/lib/python3.10/dist-packages (from dataclasses-json<0.7,>=0.5.7->langchain==0.1.0) (3.21.1)\n",
            "Requirement already satisfied: typing-inspect<1,>=0.4.0 in /usr/local/lib/python3.10/dist-packages (from dataclasses-json<0.7,>=0.5.7->langchain==0.1.0) (0.9.0)\n",
            "Requirement already satisfied: jsonpointer>=1.9 in /usr/local/lib/python3.10/dist-packages (from jsonpatch<2.0,>=1.33->langchain==0.1.0) (2.4)\n",
            "Requirement already satisfied: anyio<5,>=3 in /usr/local/lib/python3.10/dist-packages (from langchain-core<0.2,>=0.1.7->langchain==0.1.0) (3.7.1)\n",
            "Requirement already satisfied: packaging<24.0,>=23.2 in /usr/local/lib/python3.10/dist-packages (from langchain-core<0.2,>=0.1.7->langchain==0.1.0) (23.2)\n",
            "Requirement already satisfied: annotated-types>=0.4.0 in /usr/local/lib/python3.10/dist-packages (from pydantic<3,>=1->langchain==0.1.0) (0.6.0)\n",
            "Requirement already satisfied: pydantic-core==2.16.3 in /usr/local/lib/python3.10/dist-packages (from pydantic<3,>=1->langchain==0.1.0) (2.16.3)\n",
            "Requirement already satisfied: typing-extensions>=4.6.1 in /usr/local/lib/python3.10/dist-packages (from pydantic<3,>=1->langchain==0.1.0) (4.10.0)\n",
            "Requirement already satisfied: charset-normalizer<4,>=2 in /usr/local/lib/python3.10/dist-packages (from requests<3,>=2->langchain==0.1.0) (3.3.2)\n",
            "Requirement already satisfied: idna<4,>=2.5 in /usr/local/lib/python3.10/dist-packages (from requests<3,>=2->langchain==0.1.0) (3.6)\n",
            "Requirement already satisfied: urllib3<3,>=1.21.1 in /usr/local/lib/python3.10/dist-packages (from requests<3,>=2->langchain==0.1.0) (2.0.7)\n",
            "Requirement already satisfied: certifi>=2017.4.17 in /usr/local/lib/python3.10/dist-packages (from requests<3,>=2->langchain==0.1.0) (2024.2.2)\n",
            "Requirement already satisfied: greenlet!=0.4.17 in /usr/local/lib/python3.10/dist-packages (from SQLAlchemy<3,>=1.4->langchain==0.1.0) (3.0.3)\n",
            "Requirement already satisfied: sniffio>=1.1 in /usr/local/lib/python3.10/dist-packages (from anyio<5,>=3->langchain-core<0.2,>=0.1.7->langchain==0.1.0) (1.3.1)\n",
            "Requirement already satisfied: exceptiongroup in /usr/local/lib/python3.10/dist-packages (from anyio<5,>=3->langchain-core<0.2,>=0.1.7->langchain==0.1.0) (1.2.0)\n",
            "Requirement already satisfied: mypy-extensions>=0.3.0 in /usr/local/lib/python3.10/dist-packages (from typing-inspect<1,>=0.4.0->dataclasses-json<0.7,>=0.5.7->langchain==0.1.0) (1.0.0)\n",
            "Requirement already satisfied: accelerate==0.25.0 in /usr/local/lib/python3.10/dist-packages (0.25.0)\n",
            "Requirement already satisfied: numpy>=1.17 in /usr/local/lib/python3.10/dist-packages (from accelerate==0.25.0) (1.25.2)\n",
            "Requirement already satisfied: packaging>=20.0 in /usr/local/lib/python3.10/dist-packages (from accelerate==0.25.0) (23.2)\n",
            "Requirement already satisfied: psutil in /usr/local/lib/python3.10/dist-packages (from accelerate==0.25.0) (5.9.5)\n",
            "Requirement already satisfied: pyyaml in /usr/local/lib/python3.10/dist-packages (from accelerate==0.25.0) (6.0.1)\n",
            "Requirement already satisfied: torch>=1.10.0 in /usr/local/lib/python3.10/dist-packages (from accelerate==0.25.0) (2.2.1+cu121)\n",
            "Requirement already satisfied: huggingface-hub in /usr/local/lib/python3.10/dist-packages (from accelerate==0.25.0) (0.20.3)\n",
            "Requirement already satisfied: safetensors>=0.3.1 in /usr/local/lib/python3.10/dist-packages (from accelerate==0.25.0) (0.4.2)\n",
            "Requirement already satisfied: filelock in /usr/local/lib/python3.10/dist-packages (from torch>=1.10.0->accelerate==0.25.0) (3.13.1)\n",
            "Requirement already satisfied: typing-extensions>=4.8.0 in /usr/local/lib/python3.10/dist-packages (from torch>=1.10.0->accelerate==0.25.0) (4.10.0)\n",
            "Requirement already satisfied: sympy in /usr/local/lib/python3.10/dist-packages (from torch>=1.10.0->accelerate==0.25.0) (1.12)\n",
            "Requirement already satisfied: networkx in /usr/local/lib/python3.10/dist-packages (from torch>=1.10.0->accelerate==0.25.0) (3.2.1)\n",
            "Requirement already satisfied: jinja2 in /usr/local/lib/python3.10/dist-packages (from torch>=1.10.0->accelerate==0.25.0) (3.1.3)\n",
            "Requirement already satisfied: fsspec in /usr/local/lib/python3.10/dist-packages (from torch>=1.10.0->accelerate==0.25.0) (2023.6.0)\n",
            "Requirement already satisfied: nvidia-cuda-nvrtc-cu12==12.1.105 in /usr/local/lib/python3.10/dist-packages (from torch>=1.10.0->accelerate==0.25.0) (12.1.105)\n",
            "Requirement already satisfied: nvidia-cuda-runtime-cu12==12.1.105 in /usr/local/lib/python3.10/dist-packages (from torch>=1.10.0->accelerate==0.25.0) (12.1.105)\n",
            "Requirement already satisfied: nvidia-cuda-cupti-cu12==12.1.105 in /usr/local/lib/python3.10/dist-packages (from torch>=1.10.0->accelerate==0.25.0) (12.1.105)\n",
            "Requirement already satisfied: nvidia-cudnn-cu12==8.9.2.26 in /usr/local/lib/python3.10/dist-packages (from torch>=1.10.0->accelerate==0.25.0) (8.9.2.26)\n",
            "Requirement already satisfied: nvidia-cublas-cu12==12.1.3.1 in /usr/local/lib/python3.10/dist-packages (from torch>=1.10.0->accelerate==0.25.0) (12.1.3.1)\n",
            "Requirement already satisfied: nvidia-cufft-cu12==11.0.2.54 in /usr/local/lib/python3.10/dist-packages (from torch>=1.10.0->accelerate==0.25.0) (11.0.2.54)\n",
            "Requirement already satisfied: nvidia-curand-cu12==10.3.2.106 in /usr/local/lib/python3.10/dist-packages (from torch>=1.10.0->accelerate==0.25.0) (10.3.2.106)\n",
            "Requirement already satisfied: nvidia-cusolver-cu12==11.4.5.107 in /usr/local/lib/python3.10/dist-packages (from torch>=1.10.0->accelerate==0.25.0) (11.4.5.107)\n",
            "Requirement already satisfied: nvidia-cusparse-cu12==12.1.0.106 in /usr/local/lib/python3.10/dist-packages (from torch>=1.10.0->accelerate==0.25.0) (12.1.0.106)\n",
            "Requirement already satisfied: nvidia-nccl-cu12==2.19.3 in /usr/local/lib/python3.10/dist-packages (from torch>=1.10.0->accelerate==0.25.0) (2.19.3)\n",
            "Requirement already satisfied: nvidia-nvtx-cu12==12.1.105 in /usr/local/lib/python3.10/dist-packages (from torch>=1.10.0->accelerate==0.25.0) (12.1.105)\n",
            "Requirement already satisfied: triton==2.2.0 in /usr/local/lib/python3.10/dist-packages (from torch>=1.10.0->accelerate==0.25.0) (2.2.0)\n",
            "Requirement already satisfied: nvidia-nvjitlink-cu12 in /usr/local/lib/python3.10/dist-packages (from nvidia-cusolver-cu12==11.4.5.107->torch>=1.10.0->accelerate==0.25.0) (12.4.99)\n",
            "Requirement already satisfied: requests in /usr/local/lib/python3.10/dist-packages (from huggingface-hub->accelerate==0.25.0) (2.31.0)\n",
            "Requirement already satisfied: tqdm>=4.42.1 in /usr/local/lib/python3.10/dist-packages (from huggingface-hub->accelerate==0.25.0) (4.66.2)\n",
            "Requirement already satisfied: MarkupSafe>=2.0 in /usr/local/lib/python3.10/dist-packages (from jinja2->torch>=1.10.0->accelerate==0.25.0) (2.1.5)\n",
            "Requirement already satisfied: charset-normalizer<4,>=2 in /usr/local/lib/python3.10/dist-packages (from requests->huggingface-hub->accelerate==0.25.0) (3.3.2)\n",
            "Requirement already satisfied: idna<4,>=2.5 in /usr/local/lib/python3.10/dist-packages (from requests->huggingface-hub->accelerate==0.25.0) (3.6)\n",
            "Requirement already satisfied: urllib3<3,>=1.21.1 in /usr/local/lib/python3.10/dist-packages (from requests->huggingface-hub->accelerate==0.25.0) (2.0.7)\n",
            "Requirement already satisfied: certifi>=2017.4.17 in /usr/local/lib/python3.10/dist-packages (from requests->huggingface-hub->accelerate==0.25.0) (2024.2.2)\n",
            "Requirement already satisfied: mpmath>=0.19 in /usr/local/lib/python3.10/dist-packages (from sympy->torch>=1.10.0->accelerate==0.25.0) (1.3.0)\n",
            "Requirement already satisfied: transformers==4.36.2 in /usr/local/lib/python3.10/dist-packages (4.36.2)\n",
            "Requirement already satisfied: filelock in /usr/local/lib/python3.10/dist-packages (from transformers==4.36.2) (3.13.1)\n",
            "Requirement already satisfied: huggingface-hub<1.0,>=0.19.3 in /usr/local/lib/python3.10/dist-packages (from transformers==4.36.2) (0.20.3)\n",
            "Requirement already satisfied: numpy>=1.17 in /usr/local/lib/python3.10/dist-packages (from transformers==4.36.2) (1.25.2)\n",
            "Requirement already satisfied: packaging>=20.0 in /usr/local/lib/python3.10/dist-packages (from transformers==4.36.2) (23.2)\n",
            "Requirement already satisfied: pyyaml>=5.1 in /usr/local/lib/python3.10/dist-packages (from transformers==4.36.2) (6.0.1)\n",
            "Requirement already satisfied: regex!=2019.12.17 in /usr/local/lib/python3.10/dist-packages (from transformers==4.36.2) (2023.12.25)\n",
            "Requirement already satisfied: requests in /usr/local/lib/python3.10/dist-packages (from transformers==4.36.2) (2.31.0)\n",
            "Requirement already satisfied: tokenizers<0.19,>=0.14 in /usr/local/lib/python3.10/dist-packages (from transformers==4.36.2) (0.15.2)\n",
            "Requirement already satisfied: safetensors>=0.3.1 in /usr/local/lib/python3.10/dist-packages (from transformers==4.36.2) (0.4.2)\n",
            "Requirement already satisfied: tqdm>=4.27 in /usr/local/lib/python3.10/dist-packages (from transformers==4.36.2) (4.66.2)\n",
            "Requirement already satisfied: fsspec>=2023.5.0 in /usr/local/lib/python3.10/dist-packages (from huggingface-hub<1.0,>=0.19.3->transformers==4.36.2) (2023.6.0)\n",
            "Requirement already satisfied: typing-extensions>=3.7.4.3 in /usr/local/lib/python3.10/dist-packages (from huggingface-hub<1.0,>=0.19.3->transformers==4.36.2) (4.10.0)\n",
            "Requirement already satisfied: charset-normalizer<4,>=2 in /usr/local/lib/python3.10/dist-packages (from requests->transformers==4.36.2) (3.3.2)\n",
            "Requirement already satisfied: idna<4,>=2.5 in /usr/local/lib/python3.10/dist-packages (from requests->transformers==4.36.2) (3.6)\n",
            "Requirement already satisfied: urllib3<3,>=1.21.1 in /usr/local/lib/python3.10/dist-packages (from requests->transformers==4.36.2) (2.0.7)\n",
            "Requirement already satisfied: certifi>=2017.4.17 in /usr/local/lib/python3.10/dist-packages (from requests->transformers==4.36.2) (2024.2.2)\n",
            "Requirement already satisfied: bitsandbytes==0.41.2 in /usr/local/lib/python3.10/dist-packages (0.41.2)\n",
            "Requirement already satisfied: sentence-transformers==2.2.2 in /usr/local/lib/python3.10/dist-packages (2.2.2)\n",
            "Requirement already satisfied: transformers<5.0.0,>=4.6.0 in /usr/local/lib/python3.10/dist-packages (from sentence-transformers==2.2.2) (4.36.2)\n",
            "Requirement already satisfied: tqdm in /usr/local/lib/python3.10/dist-packages (from sentence-transformers==2.2.2) (4.66.2)\n",
            "Requirement already satisfied: torch>=1.6.0 in /usr/local/lib/python3.10/dist-packages (from sentence-transformers==2.2.2) (2.2.1+cu121)\n",
            "Requirement already satisfied: torchvision in /usr/local/lib/python3.10/dist-packages (from sentence-transformers==2.2.2) (0.17.1+cu121)\n",
            "Requirement already satisfied: numpy in /usr/local/lib/python3.10/dist-packages (from sentence-transformers==2.2.2) (1.25.2)\n",
            "Requirement already satisfied: scikit-learn in /usr/local/lib/python3.10/dist-packages (from sentence-transformers==2.2.2) (1.2.2)\n",
            "Requirement already satisfied: scipy in /usr/local/lib/python3.10/dist-packages (from sentence-transformers==2.2.2) (1.11.4)\n",
            "Requirement already satisfied: nltk in /usr/local/lib/python3.10/dist-packages (from sentence-transformers==2.2.2) (3.8.1)\n",
            "Requirement already satisfied: sentencepiece in /usr/local/lib/python3.10/dist-packages (from sentence-transformers==2.2.2) (0.1.99)\n",
            "Requirement already satisfied: huggingface-hub>=0.4.0 in /usr/local/lib/python3.10/dist-packages (from sentence-transformers==2.2.2) (0.20.3)\n",
            "Requirement already satisfied: filelock in /usr/local/lib/python3.10/dist-packages (from huggingface-hub>=0.4.0->sentence-transformers==2.2.2) (3.13.1)\n",
            "Requirement already satisfied: fsspec>=2023.5.0 in /usr/local/lib/python3.10/dist-packages (from huggingface-hub>=0.4.0->sentence-transformers==2.2.2) (2023.6.0)\n",
            "Requirement already satisfied: requests in /usr/local/lib/python3.10/dist-packages (from huggingface-hub>=0.4.0->sentence-transformers==2.2.2) (2.31.0)\n",
            "Requirement already satisfied: pyyaml>=5.1 in /usr/local/lib/python3.10/dist-packages (from huggingface-hub>=0.4.0->sentence-transformers==2.2.2) (6.0.1)\n",
            "Requirement already satisfied: typing-extensions>=3.7.4.3 in /usr/local/lib/python3.10/dist-packages (from huggingface-hub>=0.4.0->sentence-transformers==2.2.2) (4.10.0)\n",
            "Requirement already satisfied: packaging>=20.9 in /usr/local/lib/python3.10/dist-packages (from huggingface-hub>=0.4.0->sentence-transformers==2.2.2) (23.2)\n",
            "Requirement already satisfied: sympy in /usr/local/lib/python3.10/dist-packages (from torch>=1.6.0->sentence-transformers==2.2.2) (1.12)\n",
            "Requirement already satisfied: networkx in /usr/local/lib/python3.10/dist-packages (from torch>=1.6.0->sentence-transformers==2.2.2) (3.2.1)\n",
            "Requirement already satisfied: jinja2 in /usr/local/lib/python3.10/dist-packages (from torch>=1.6.0->sentence-transformers==2.2.2) (3.1.3)\n",
            "Requirement already satisfied: nvidia-cuda-nvrtc-cu12==12.1.105 in /usr/local/lib/python3.10/dist-packages (from torch>=1.6.0->sentence-transformers==2.2.2) (12.1.105)\n",
            "Requirement already satisfied: nvidia-cuda-runtime-cu12==12.1.105 in /usr/local/lib/python3.10/dist-packages (from torch>=1.6.0->sentence-transformers==2.2.2) (12.1.105)\n",
            "Requirement already satisfied: nvidia-cuda-cupti-cu12==12.1.105 in /usr/local/lib/python3.10/dist-packages (from torch>=1.6.0->sentence-transformers==2.2.2) (12.1.105)\n",
            "Requirement already satisfied: nvidia-cudnn-cu12==8.9.2.26 in /usr/local/lib/python3.10/dist-packages (from torch>=1.6.0->sentence-transformers==2.2.2) (8.9.2.26)\n",
            "Requirement already satisfied: nvidia-cublas-cu12==12.1.3.1 in /usr/local/lib/python3.10/dist-packages (from torch>=1.6.0->sentence-transformers==2.2.2) (12.1.3.1)\n",
            "Requirement already satisfied: nvidia-cufft-cu12==11.0.2.54 in /usr/local/lib/python3.10/dist-packages (from torch>=1.6.0->sentence-transformers==2.2.2) (11.0.2.54)\n",
            "Requirement already satisfied: nvidia-curand-cu12==10.3.2.106 in /usr/local/lib/python3.10/dist-packages (from torch>=1.6.0->sentence-transformers==2.2.2) (10.3.2.106)\n",
            "Requirement already satisfied: nvidia-cusolver-cu12==11.4.5.107 in /usr/local/lib/python3.10/dist-packages (from torch>=1.6.0->sentence-transformers==2.2.2) (11.4.5.107)\n",
            "Requirement already satisfied: nvidia-cusparse-cu12==12.1.0.106 in /usr/local/lib/python3.10/dist-packages (from torch>=1.6.0->sentence-transformers==2.2.2) (12.1.0.106)\n",
            "Requirement already satisfied: nvidia-nccl-cu12==2.19.3 in /usr/local/lib/python3.10/dist-packages (from torch>=1.6.0->sentence-transformers==2.2.2) (2.19.3)\n",
            "Requirement already satisfied: nvidia-nvtx-cu12==12.1.105 in /usr/local/lib/python3.10/dist-packages (from torch>=1.6.0->sentence-transformers==2.2.2) (12.1.105)\n",
            "Requirement already satisfied: triton==2.2.0 in /usr/local/lib/python3.10/dist-packages (from torch>=1.6.0->sentence-transformers==2.2.2) (2.2.0)\n",
            "Requirement already satisfied: nvidia-nvjitlink-cu12 in /usr/local/lib/python3.10/dist-packages (from nvidia-cusolver-cu12==11.4.5.107->torch>=1.6.0->sentence-transformers==2.2.2) (12.4.99)\n",
            "Requirement already satisfied: regex!=2019.12.17 in /usr/local/lib/python3.10/dist-packages (from transformers<5.0.0,>=4.6.0->sentence-transformers==2.2.2) (2023.12.25)\n",
            "Requirement already satisfied: tokenizers<0.19,>=0.14 in /usr/local/lib/python3.10/dist-packages (from transformers<5.0.0,>=4.6.0->sentence-transformers==2.2.2) (0.15.2)\n",
            "Requirement already satisfied: safetensors>=0.3.1 in /usr/local/lib/python3.10/dist-packages (from transformers<5.0.0,>=4.6.0->sentence-transformers==2.2.2) (0.4.2)\n",
            "Requirement already satisfied: click in /usr/local/lib/python3.10/dist-packages (from nltk->sentence-transformers==2.2.2) (8.1.7)\n",
            "Requirement already satisfied: joblib in /usr/local/lib/python3.10/dist-packages (from nltk->sentence-transformers==2.2.2) (1.3.2)\n",
            "Requirement already satisfied: threadpoolctl>=2.0.0 in /usr/local/lib/python3.10/dist-packages (from scikit-learn->sentence-transformers==2.2.2) (3.3.0)\n",
            "Requirement already satisfied: pillow!=8.3.*,>=5.3.0 in /usr/local/lib/python3.10/dist-packages (from torchvision->sentence-transformers==2.2.2) (9.4.0)\n",
            "Requirement already satisfied: MarkupSafe>=2.0 in /usr/local/lib/python3.10/dist-packages (from jinja2->torch>=1.6.0->sentence-transformers==2.2.2) (2.1.5)\n",
            "Requirement already satisfied: charset-normalizer<4,>=2 in /usr/local/lib/python3.10/dist-packages (from requests->huggingface-hub>=0.4.0->sentence-transformers==2.2.2) (3.3.2)\n",
            "Requirement already satisfied: idna<4,>=2.5 in /usr/local/lib/python3.10/dist-packages (from requests->huggingface-hub>=0.4.0->sentence-transformers==2.2.2) (3.6)\n",
            "Requirement already satisfied: urllib3<3,>=1.21.1 in /usr/local/lib/python3.10/dist-packages (from requests->huggingface-hub>=0.4.0->sentence-transformers==2.2.2) (2.0.7)\n",
            "Requirement already satisfied: certifi>=2017.4.17 in /usr/local/lib/python3.10/dist-packages (from requests->huggingface-hub>=0.4.0->sentence-transformers==2.2.2) (2024.2.2)\n",
            "Requirement already satisfied: mpmath>=0.19 in /usr/local/lib/python3.10/dist-packages (from sympy->torch>=1.6.0->sentence-transformers==2.2.2) (1.3.0)\n",
            "Requirement already satisfied: InstructorEmbedding==1.0.1 in /usr/local/lib/python3.10/dist-packages (1.0.1)\n",
            "Requirement already satisfied: pymupdf==1.23.8 in /usr/local/lib/python3.10/dist-packages (1.23.8)\n",
            "Requirement already satisfied: PyMuPDFb==1.23.7 in /usr/local/lib/python3.10/dist-packages (from pymupdf==1.23.8) (1.23.7)\n",
            "Requirement already satisfied: faiss-gpu==1.7.2 in /usr/local/lib/python3.10/dist-packages (1.7.2)\n",
            "Requirement already satisfied: faiss-cpu==1.7.4 in /usr/local/lib/python3.10/dist-packages (1.7.4)\n",
            "Requirement already satisfied: torch in /usr/local/lib/python3.10/dist-packages (2.2.1+cu121)\n",
            "Requirement already satisfied: filelock in /usr/local/lib/python3.10/dist-packages (from torch) (3.13.1)\n",
            "Requirement already satisfied: typing-extensions>=4.8.0 in /usr/local/lib/python3.10/dist-packages (from torch) (4.10.0)\n",
            "Requirement already satisfied: sympy in /usr/local/lib/python3.10/dist-packages (from torch) (1.12)\n",
            "Requirement already satisfied: networkx in /usr/local/lib/python3.10/dist-packages (from torch) (3.2.1)\n",
            "Requirement already satisfied: jinja2 in /usr/local/lib/python3.10/dist-packages (from torch) (3.1.3)\n",
            "Requirement already satisfied: fsspec in /usr/local/lib/python3.10/dist-packages (from torch) (2023.6.0)\n",
            "Requirement already satisfied: nvidia-cuda-nvrtc-cu12==12.1.105 in /usr/local/lib/python3.10/dist-packages (from torch) (12.1.105)\n",
            "Requirement already satisfied: nvidia-cuda-runtime-cu12==12.1.105 in /usr/local/lib/python3.10/dist-packages (from torch) (12.1.105)\n",
            "Requirement already satisfied: nvidia-cuda-cupti-cu12==12.1.105 in /usr/local/lib/python3.10/dist-packages (from torch) (12.1.105)\n",
            "Requirement already satisfied: nvidia-cudnn-cu12==8.9.2.26 in /usr/local/lib/python3.10/dist-packages (from torch) (8.9.2.26)\n",
            "Requirement already satisfied: nvidia-cublas-cu12==12.1.3.1 in /usr/local/lib/python3.10/dist-packages (from torch) (12.1.3.1)\n",
            "Requirement already satisfied: nvidia-cufft-cu12==11.0.2.54 in /usr/local/lib/python3.10/dist-packages (from torch) (11.0.2.54)\n",
            "Requirement already satisfied: nvidia-curand-cu12==10.3.2.106 in /usr/local/lib/python3.10/dist-packages (from torch) (10.3.2.106)\n",
            "Requirement already satisfied: nvidia-cusolver-cu12==11.4.5.107 in /usr/local/lib/python3.10/dist-packages (from torch) (11.4.5.107)\n",
            "Requirement already satisfied: nvidia-cusparse-cu12==12.1.0.106 in /usr/local/lib/python3.10/dist-packages (from torch) (12.1.0.106)\n",
            "Requirement already satisfied: nvidia-nccl-cu12==2.19.3 in /usr/local/lib/python3.10/dist-packages (from torch) (2.19.3)\n",
            "Requirement already satisfied: nvidia-nvtx-cu12==12.1.105 in /usr/local/lib/python3.10/dist-packages (from torch) (12.1.105)\n",
            "Requirement already satisfied: triton==2.2.0 in /usr/local/lib/python3.10/dist-packages (from torch) (2.2.0)\n",
            "Requirement already satisfied: nvidia-nvjitlink-cu12 in /usr/local/lib/python3.10/dist-packages (from nvidia-cusolver-cu12==11.4.5.107->torch) (12.4.99)\n",
            "Requirement already satisfied: MarkupSafe>=2.0 in /usr/local/lib/python3.10/dist-packages (from jinja2->torch) (2.1.5)\n",
            "Requirement already satisfied: mpmath>=0.19 in /usr/local/lib/python3.10/dist-packages (from sympy->torch) (1.3.0)\n"
          ]
        }
      ],
      "source": [
        "#langchain library\n",
        "!pip install langchain==0.1.0\n",
        "#LLM\n",
        "!pip install accelerate==0.25.0\n",
        "!pip install transformers==4.36.2\n",
        "!pip install bitsandbytes==0.41.2\n",
        "#Text Embedding\n",
        "!pip install sentence-transformers==2.2.2\n",
        "!pip install InstructorEmbedding==1.0.1\n",
        "#vectorstore to local\n",
        "!pip install pymupdf==1.23.8\n",
        "!pip install faiss-gpu==1.7.2\n",
        "!pip install faiss-cpu==1.7.4\n",
        "\n",
        "!pip install torch"
      ]
    },
    {
      "cell_type": "code",
      "execution_count": 2,
      "metadata": {
        "colab": {
          "base_uri": "https://localhost:8080/"
        },
        "id": "_UrhDnPZ4BLM",
        "outputId": "65bcf90e-9a70-4936-841b-d964934cd9f0"
      },
      "outputs": [
        {
          "output_type": "stream",
          "name": "stdout",
          "text": [
            "cuda\n"
          ]
        }
      ],
      "source": [
        "# Setting up the device\n",
        "import torch\n",
        "device = torch.device(\"cuda\" if torch.cuda.is_available() else \"cpu\")\n",
        "print(device)"
      ]
    },
    {
      "cell_type": "markdown",
      "metadata": {
        "id": "UDwRxIqW4BLM"
      },
      "source": [
        "## 1.Prompt"
      ]
    },
    {
      "cell_type": "code",
      "execution_count": 3,
      "metadata": {
        "colab": {
          "base_uri": "https://localhost:8080/"
        },
        "id": "dTjyuFKQ4BLM",
        "outputId": "82cb1f64-65c3-45d0-d0cb-e5916c4dc3bd"
      },
      "outputs": [
        {
          "output_type": "execute_result",
          "data": {
            "text/plain": [
              "PromptTemplate(input_variables=['context', 'question'], template=\"**Welcome to AIT-GPT!**  I'm your friendly AI assistant for all things AIT. \\n\\n**Ask me anything related to the Asian Institute of Technology:** Whether you're curious about academic programs, research areas, faculty expertise, or campus life, I'm here to help! \\n\\n**For the best results, try using specific keywords or phrases** related to your question. \\n\\n**Here are some examples to get you started:**\\n\\n* What are the admission requirements for international students?\\n* What are the current research areas at AIT?\\n* Can you tell me more about the faculty in the School of Engineering and Technology?\\n* When was AIT founded?\\n* What are some of the student clubs and organizations available at AIT?\\n\\n**Now, ask your question!** \\n**Context: {context}**\\n**Question: {question}**\\n    \\n**Answer:**\")"
            ]
          },
          "metadata": {},
          "execution_count": 3
        }
      ],
      "source": [
        "from langchain import PromptTemplate\n",
        "\n",
        "prompt_template = \"\"\"\n",
        "**Welcome to AIT-GPT!**  I'm your friendly AI assistant for all things AIT.\n",
        "\n",
        "**Ask me anything related to the Asian Institute of Technology:** Whether you're curious about academic programs, research areas, faculty expertise, or campus life, I'm here to help!\n",
        "\n",
        "**For the best results, try using specific keywords or phrases** related to your question.\n",
        "\n",
        "**Here are some examples to get you started:**\n",
        "\n",
        "* What are the admission requirements for international students?\n",
        "* What are the current research areas at AIT?\n",
        "* Can you tell me more about the faculty in the School of Engineering and Technology?\n",
        "* When was AIT founded?\n",
        "* What are some of the student clubs and organizations available at AIT?\n",
        "\n",
        "**Now, ask your question!**\n",
        "**Context: {context}**\n",
        "**Question: {question}**\n",
        "\n",
        "**Answer:**\n",
        "    \"\"\".strip()\n",
        "PROMPT=PromptTemplate.from_template(\n",
        "    template=prompt_template\n",
        "    )\n",
        "PROMPT"
      ]
    },
    {
      "cell_type": "code",
      "execution_count": 4,
      "metadata": {
        "colab": {
          "base_uri": "https://localhost:8080/",
          "height": 163
        },
        "id": "sF3EiUvf4BLM",
        "outputId": "ec373dfb-8fee-4217-d27a-610209b27f51"
      },
      "outputs": [
        {
          "output_type": "execute_result",
          "data": {
            "text/plain": [
              "\"**Welcome to AIT-GPT!**  I'm your friendly AI assistant for all things AIT. \\n\\n**Ask me anything related to the Asian Institute of Technology:** Whether you're curious about academic programs, research areas, faculty expertise, or campus life, I'm here to help! \\n\\n**For the best results, try using specific keywords or phrases** related to your question. \\n\\n**Here are some examples to get you started:**\\n\\n* What are the admission requirements for international students?\\n* What are the current research areas at AIT?\\n* Can you tell me more about the faculty in the School of Engineering and Technology?\\n* When was AIT founded?\\n* What are some of the student clubs and organizations available at AIT?\\n\\n**Now, ask your question!** \\n**Context: AIT is a leading institute in Asia for postgraduate education and applied research, focusing on engineering, technology, management, and environment.**\\n**Question: What are the current research areas of focus at AIT?**\\n    \\n**Answer:**\""
            ],
            "application/vnd.google.colaboratory.intrinsic+json": {
              "type": "string"
            }
          },
          "metadata": {},
          "execution_count": 4
        }
      ],
      "source": [
        "PROMPT.format(\n",
        "    context = \"AIT is a leading institute in Asia for postgraduate education and applied research, focusing on engineering, technology, management, and environment.\",\n",
        "    question = \"What are the current research areas of focus at AIT?\"\n",
        ")"
      ]
    },
    {
      "cell_type": "markdown",
      "metadata": {
        "id": "eBWUs9cP4BLM"
      },
      "source": [
        "## 2. Retrieval"
      ]
    },
    {
      "cell_type": "markdown",
      "metadata": {
        "id": "VhouRd0a4BLN"
      },
      "source": [
        "1. Document loaders : Load documents from many different sources (HTML, PDF, code).\n",
        "2. Document transformers : One of the essential steps in document retrieval is breaking down a large document into smaller, relevant chunks to enhance the retrieval process.\n",
        "3. Text embedding models : Embeddings capture the semantic meaning of the text, allowing you to quickly and efficiently find other pieces of text that are similar.\n",
        "4. Vector stores: there has emerged a need for databases to support efficient storage and searching of these embeddings.\n",
        "5. Retrievers : Once the data is in the database, you still need to retrieve it."
      ]
    },
    {
      "cell_type": "markdown",
      "metadata": {
        "id": "vl856CAH4BLN"
      },
      "source": [
        "### 2.1 Document loaders"
      ]
    },
    {
      "cell_type": "code",
      "execution_count": 5,
      "metadata": {
        "id": "2N3MvXC64BLN"
      },
      "outputs": [],
      "source": [
        "from langchain.document_loaders import PyMuPDFLoader\n",
        "nlp_docs = 'Student-Handbook_August-2023-Semester_FINAL_as-of-8-Aug-2023.pdf'\n",
        "\n",
        "loader = PyMuPDFLoader(nlp_docs)\n",
        "documents =  loader.load()"
      ]
    },
    {
      "cell_type": "code",
      "execution_count": 6,
      "metadata": {
        "colab": {
          "base_uri": "https://localhost:8080/"
        },
        "id": "GrZJ1VCn4BLN",
        "outputId": "95f32712-aa7f-4034-be8f-1292354d2204"
      },
      "outputs": [
        {
          "output_type": "execute_result",
          "data": {
            "text/plain": [
              "Document(page_content=' \\nTABLE OF CONTENTS \\n \\n \\nI. \\nIntroducing AIT \\n \\nII. \\nStudent Bill of Rights \\n \\nIII. \\nStudent Code of Conduct \\n \\nIV. \\nGuidance for New Students \\n \\nV. \\nStudent Welfare Unit and the AIT Career Center \\n \\nVI. \\nHarassment Policy \\n \\nVII. \\nSubstance Abuse Policy \\n \\nVIII. \\nEnvironment Policy \\n \\nIX. \\nStudent Organizations and Student Participation in Institute Governance \\n- Student Union \\n- Nationality Associations \\n- Student Participation in Institute Governance \\n \\nX. \\nCampus Facilities and Services \\n- Student Accommodation \\n- Visas \\n- Banking \\n- Dining \\n- Sports and Recreation \\n- Movies on Campus \\n- Religious Services \\n- Mails \\n- AIT Reception \\n- Office of Public Affairs (OPA) \\n- Books and Office Supplies \\n- English Language Training and Advising \\n- Library \\n- Internet and Other Campus Wide IT Services \\n- Child Schooling \\n- Medical Examination and Emergency \\n- Security Service \\n \\nXI. \\nGetting Around \\n- On Campus \\n- Off Campus \\n \\nXII. \\nCommuting and Travels Within/Outside Thailand \\nXIII. \\nShopping and Other Services \\nXIV. \\nOffice of Advancement (OADV) \\nXV. \\nWhom to Contact\\n', metadata={'source': 'Student-Handbook_August-2023-Semester_FINAL_as-of-8-Aug-2023.pdf', 'file_path': 'Student-Handbook_August-2023-Semester_FINAL_as-of-8-Aug-2023.pdf', 'page': 1, 'total_pages': 95, 'format': 'PDF 1.4', 'title': '(\\\\(NDIJobGUID=fb11135f-67cd-4d80-beec-458427a81384\\\\)Microsoft Word - Student Handbook_August 2023 Semester_FINAL_as of 8 Aug 2023)', 'author': 'Pwint', 'subject': '', 'keywords': '', 'creator': 'PScript5.dll Version 5.2.2', 'producer': 'GPL Ghostscript 9.06', 'creationDate': \"D:20230809142824+07'00'\", 'modDate': \"D:20230809142824+07'00'\", 'trapped': ''})"
            ]
          },
          "metadata": {},
          "execution_count": 6
        }
      ],
      "source": [
        "documents[1]"
      ]
    },
    {
      "cell_type": "code",
      "execution_count": 7,
      "metadata": {
        "colab": {
          "base_uri": "https://localhost:8080/"
        },
        "id": "xMkLzLCf4BLN",
        "outputId": "04d87d8a-9561-4285-bec7-956b4a74d46b"
      },
      "outputs": [
        {
          "output_type": "execute_result",
          "data": {
            "text/plain": [
              "95"
            ]
          },
          "metadata": {},
          "execution_count": 7
        }
      ],
      "source": [
        "len(documents) #document per page"
      ]
    },
    {
      "cell_type": "markdown",
      "metadata": {
        "id": "s2lQdZJ84BLN"
      },
      "source": [
        "To prevent hallucination for receiving unnecessary data, we need to brake documents as a chunk."
      ]
    },
    {
      "cell_type": "markdown",
      "metadata": {
        "id": "qOltzhAx4BLN"
      },
      "source": [
        "### 2.2 Document Transformers"
      ]
    },
    {
      "cell_type": "code",
      "execution_count": 8,
      "metadata": {
        "id": "O0mBwD004BLN"
      },
      "outputs": [],
      "source": [
        "from langchain.text_splitter import RecursiveCharacterTextSplitter\n",
        "text_splitter = RecursiveCharacterTextSplitter(\n",
        "    chunk_size = 700,\n",
        "    chunk_overlap=100\n",
        ")\n",
        "doc = text_splitter.split_documents(documents)"
      ]
    },
    {
      "cell_type": "code",
      "execution_count": 9,
      "metadata": {
        "colab": {
          "base_uri": "https://localhost:8080/"
        },
        "id": "4hBoq1Od4BLN",
        "outputId": "3d58838e-a0ef-4ac2-fcec-26711dd8fc82"
      },
      "outputs": [
        {
          "output_type": "execute_result",
          "data": {
            "text/plain": [
              "Document(page_content='TABLE OF CONTENTS \\n \\n \\nI. \\nIntroducing AIT \\n \\nII. \\nStudent Bill of Rights \\n \\nIII. \\nStudent Code of Conduct \\n \\nIV. \\nGuidance for New Students \\n \\nV. \\nStudent Welfare Unit and the AIT Career Center \\n \\nVI. \\nHarassment Policy \\n \\nVII. \\nSubstance Abuse Policy \\n \\nVIII. \\nEnvironment Policy \\n \\nIX. \\nStudent Organizations and Student Participation in Institute Governance \\n- Student Union \\n- Nationality Associations \\n- Student Participation in Institute Governance \\n \\nX. \\nCampus Facilities and Services \\n- Student Accommodation \\n- Visas \\n- Banking \\n- Dining \\n- Sports and Recreation \\n- Movies on Campus \\n- Religious Services \\n- Mails \\n- AIT Reception \\n- Office of Public Affairs (OPA)', metadata={'source': 'Student-Handbook_August-2023-Semester_FINAL_as-of-8-Aug-2023.pdf', 'file_path': 'Student-Handbook_August-2023-Semester_FINAL_as-of-8-Aug-2023.pdf', 'page': 1, 'total_pages': 95, 'format': 'PDF 1.4', 'title': '(\\\\(NDIJobGUID=fb11135f-67cd-4d80-beec-458427a81384\\\\)Microsoft Word - Student Handbook_August 2023 Semester_FINAL_as of 8 Aug 2023)', 'author': 'Pwint', 'subject': '', 'keywords': '', 'creator': 'PScript5.dll Version 5.2.2', 'producer': 'GPL Ghostscript 9.06', 'creationDate': \"D:20230809142824+07'00'\", 'modDate': \"D:20230809142824+07'00'\", 'trapped': ''})"
            ]
          },
          "metadata": {},
          "execution_count": 9
        }
      ],
      "source": [
        "doc[1]"
      ]
    },
    {
      "cell_type": "code",
      "execution_count": 10,
      "metadata": {
        "colab": {
          "base_uri": "https://localhost:8080/"
        },
        "id": "KKK3oFex4BLN",
        "outputId": "0b570ec1-df35-47f7-d872-bea2b85a1fca"
      },
      "outputs": [
        {
          "output_type": "execute_result",
          "data": {
            "text/plain": [
              "371"
            ]
          },
          "metadata": {},
          "execution_count": 10
        }
      ],
      "source": [
        "len(doc)"
      ]
    },
    {
      "cell_type": "markdown",
      "metadata": {
        "id": "JYzyXBRt4BLN"
      },
      "source": [
        "### 2.3 Text Embedding Models"
      ]
    },
    {
      "cell_type": "code",
      "execution_count": 11,
      "metadata": {
        "colab": {
          "base_uri": "https://localhost:8080/"
        },
        "id": "JylD3bnA4BLO",
        "outputId": "dc9d7f6c-fb45-4ca9-91ab-d9c14b75710b"
      },
      "outputs": [
        {
          "output_type": "stream",
          "name": "stderr",
          "text": [
            "/usr/local/lib/python3.10/dist-packages/InstructorEmbedding/instructor.py:7: TqdmExperimentalWarning: Using `tqdm.autonotebook.tqdm` in notebook mode. Use `tqdm.tqdm` instead to force console mode (e.g. in jupyter console)\n",
            "  from tqdm.autonotebook import trange\n",
            "/usr/local/lib/python3.10/dist-packages/transformers/utils/generic.py:441: UserWarning: torch.utils._pytree._register_pytree_node is deprecated. Please use torch.utils._pytree.register_pytree_node instead.\n",
            "  _torch_pytree._register_pytree_node(\n"
          ]
        },
        {
          "output_type": "stream",
          "name": "stdout",
          "text": [
            "load INSTRUCTOR_Transformer\n"
          ]
        },
        {
          "output_type": "stream",
          "name": "stderr",
          "text": [
            "/usr/local/lib/python3.10/dist-packages/transformers/utils/generic.py:309: UserWarning: torch.utils._pytree._register_pytree_node is deprecated. Please use torch.utils._pytree.register_pytree_node instead.\n",
            "  _torch_pytree._register_pytree_node(\n",
            "/usr/local/lib/python3.10/dist-packages/transformers/utils/generic.py:309: UserWarning: torch.utils._pytree._register_pytree_node is deprecated. Please use torch.utils._pytree.register_pytree_node instead.\n",
            "  _torch_pytree._register_pytree_node(\n"
          ]
        },
        {
          "output_type": "stream",
          "name": "stdout",
          "text": [
            "max_seq_length  512\n"
          ]
        }
      ],
      "source": [
        "import torch\n",
        "from langchain.embeddings import HuggingFaceInstructEmbeddings\n",
        "\n",
        "model_name = 'hkunlp/instructor-base'\n",
        "\n",
        "embedding_model = HuggingFaceInstructEmbeddings(\n",
        "    model_name = model_name,\n",
        "    model_kwargs = {\"device\" : device}\n",
        ")"
      ]
    },
    {
      "cell_type": "markdown",
      "metadata": {
        "id": "lMErCb1V4BLO"
      },
      "source": [
        "### 2.4 Vector Stores"
      ]
    },
    {
      "cell_type": "code",
      "execution_count": 12,
      "metadata": {
        "id": "bn_Yn9de4BLO"
      },
      "outputs": [],
      "source": [
        "import os\n",
        "#locate the vector store\n",
        "vector_path = './vector-store'\n",
        "if not os.path.exists(vector_path):\n",
        "    os.makedirs(vector_path)\n",
        "    print(\"Created the vector-store file\")"
      ]
    },
    {
      "cell_type": "code",
      "execution_count": 13,
      "metadata": {
        "id": "lCC6gP7R4BLO"
      },
      "outputs": [],
      "source": [
        "#save vector locally\n",
        "from langchain.vectorstores import FAISS\n",
        "vectordb = FAISS.from_documents(\n",
        "    documents = doc,\n",
        "    embedding = embedding_model\n",
        ")\n",
        "vectordb.save_local(\n",
        "    folder_path=vector_path,\n",
        "    index_name = 'nlp'#default index\n",
        "\n",
        ")"
      ]
    },
    {
      "cell_type": "markdown",
      "metadata": {
        "id": "cowBO8nP4BLO"
      },
      "source": [
        "### 2.5 Retrivers"
      ]
    },
    {
      "cell_type": "code",
      "execution_count": 14,
      "metadata": {
        "id": "hexO6Cll4BLO"
      },
      "outputs": [],
      "source": [
        "vectordb = FAISS.load_local(\n",
        "    folder_path = vector_path,\n",
        "    embeddings= embedding_model,\n",
        "    index_name = \"nlp\"\n",
        ")"
      ]
    },
    {
      "cell_type": "code",
      "execution_count": 15,
      "metadata": {
        "id": "4gNi6wWK4BLO"
      },
      "outputs": [],
      "source": [
        "# Ready to use\n",
        "retriever = vectordb.as_retriever()"
      ]
    },
    {
      "cell_type": "code",
      "execution_count": 16,
      "metadata": {
        "colab": {
          "base_uri": "https://localhost:8080/"
        },
        "id": "N4CNHr1R4BLO",
        "outputId": "a1d63569-4447-4677-b43d-44d875038d97"
      },
      "outputs": [
        {
          "output_type": "execute_result",
          "data": {
            "text/plain": [
              "[Document(page_content='Services at AIT or unlawful use of UIA, will be penalized ranging from blocking Internet \\naccess for a period of various length depending on its severity and frequency up to \\nexpulsion from the Institute. \\n \\nThe Institute has implemented computerized systems for almost all Information \\nSystem applications. Student and academic records are available online from Student \\nInformation System (SIS) accessible from https://sis.ait.ac.th for SET and SERD \\nstudents, https://somsis.ait.ac.th for SOM’s students. Almost all actions related to \\nstudent academic records are performed online through SIS/SOMSIS ranging from', metadata={'source': 'Student-Handbook_August-2023-Semester_FINAL_as-of-8-Aug-2023.pdf', 'file_path': 'Student-Handbook_August-2023-Semester_FINAL_as-of-8-Aug-2023.pdf', 'page': 79, 'total_pages': 95, 'format': 'PDF 1.4', 'title': '(\\\\(NDIJobGUID=fb11135f-67cd-4d80-beec-458427a81384\\\\)Microsoft Word - Student Handbook_August 2023 Semester_FINAL_as of 8 Aug 2023)', 'author': 'Pwint', 'subject': '', 'keywords': '', 'creator': 'PScript5.dll Version 5.2.2', 'producer': 'GPL Ghostscript 9.06', 'creationDate': \"D:20230809142824+07'00'\", 'modDate': \"D:20230809142824+07'00'\", 'trapped': ''}),\n",
              " Document(page_content='IX. STUDENT ORGANIZATIONS \\n \\n \\nAIT Student Union \\n \\nThe Student Union (SU) of AIT promotes the interests and welfare of the student \\nbody, promotes gender equity and equality, and promotes awareness of the \\ninternational atmosphere on AIT campus. The Student Union facilitates the \\norganization of several activities off and on-campus. It provides opportunities \\nfor cultural and non-cultural interaction among AIT community members \\nthrough its varied activities after being exhausted from the rigors of academic \\nlife. Students’ sole representation, the AIT Student Union is committed to the \\npursuit of a high level of academic, non-academic, extracurricular, cultural,', metadata={'source': 'Student-Handbook_August-2023-Semester_FINAL_as-of-8-Aug-2023.pdf', 'file_path': 'Student-Handbook_August-2023-Semester_FINAL_as-of-8-Aug-2023.pdf', 'page': 46, 'total_pages': 95, 'format': 'PDF 1.4', 'title': '(\\\\(NDIJobGUID=fb11135f-67cd-4d80-beec-458427a81384\\\\)Microsoft Word - Student Handbook_August 2023 Semester_FINAL_as of 8 Aug 2023)', 'author': 'Pwint', 'subject': '', 'keywords': '', 'creator': 'PScript5.dll Version 5.2.2', 'producer': 'GPL Ghostscript 9.06', 'creationDate': \"D:20230809142824+07'00'\", 'modDate': \"D:20230809142824+07'00'\", 'trapped': ''}),\n",
              " Document(page_content='TABLE OF CONTENTS \\n \\n \\nI. \\nIntroducing AIT \\n \\nII. \\nStudent Bill of Rights \\n \\nIII. \\nStudent Code of Conduct \\n \\nIV. \\nGuidance for New Students \\n \\nV. \\nStudent Welfare Unit and the AIT Career Center \\n \\nVI. \\nHarassment Policy \\n \\nVII. \\nSubstance Abuse Policy \\n \\nVIII. \\nEnvironment Policy \\n \\nIX. \\nStudent Organizations and Student Participation in Institute Governance \\n- Student Union \\n- Nationality Associations \\n- Student Participation in Institute Governance \\n \\nX. \\nCampus Facilities and Services \\n- Student Accommodation \\n- Visas \\n- Banking \\n- Dining \\n- Sports and Recreation \\n- Movies on Campus \\n- Religious Services \\n- Mails \\n- AIT Reception \\n- Office of Public Affairs (OPA)', metadata={'source': 'Student-Handbook_August-2023-Semester_FINAL_as-of-8-Aug-2023.pdf', 'file_path': 'Student-Handbook_August-2023-Semester_FINAL_as-of-8-Aug-2023.pdf', 'page': 1, 'total_pages': 95, 'format': 'PDF 1.4', 'title': '(\\\\(NDIJobGUID=fb11135f-67cd-4d80-beec-458427a81384\\\\)Microsoft Word - Student Handbook_August 2023 Semester_FINAL_as of 8 Aug 2023)', 'author': 'Pwint', 'subject': '', 'keywords': '', 'creator': 'PScript5.dll Version 5.2.2', 'producer': 'GPL Ghostscript 9.06', 'creationDate': \"D:20230809142824+07'00'\", 'modDate': \"D:20230809142824+07'00'\", 'trapped': ''}),\n",
              " Document(page_content='·         DOAJ-The Directory of Open Access Journals \\n·         Wiley Open Access Journals \\n·         Open Access Theses and Dissertation Databases \\n·         Elsevier Research Academy (Online courses) \\nReference Manager/Tools \\n·         Mendeley Reference Manager \\nAIT e-Theses Database: http://203.159.12.58/ait-thesis/ \\n  \\nNew books are displayed     once a month on the New Book Display Shelve. New titles list can \\nbe checked at https://library.ait.ac.th/2019/05/07/new-titles-of-the-month/. \\nLibrary Services \\n  \\n·         Book Loan     \\n·         Reference Services', metadata={'source': 'Student-Handbook_August-2023-Semester_FINAL_as-of-8-Aug-2023.pdf', 'file_path': 'Student-Handbook_August-2023-Semester_FINAL_as-of-8-Aug-2023.pdf', 'page': 77, 'total_pages': 95, 'format': 'PDF 1.4', 'title': '(\\\\(NDIJobGUID=fb11135f-67cd-4d80-beec-458427a81384\\\\)Microsoft Word - Student Handbook_August 2023 Semester_FINAL_as of 8 Aug 2023)', 'author': 'Pwint', 'subject': '', 'keywords': '', 'creator': 'PScript5.dll Version 5.2.2', 'producer': 'GPL Ghostscript 9.06', 'creationDate': \"D:20230809142824+07'00'\", 'modDate': \"D:20230809142824+07'00'\", 'trapped': ''})]"
            ]
          },
          "metadata": {},
          "execution_count": 16
        }
      ],
      "source": [
        "retriever.get_relevant_documents(\"What is SET\")"
      ]
    },
    {
      "cell_type": "markdown",
      "metadata": {
        "id": "Cwbsloi_4BLO"
      },
      "source": [
        "## 3. Memory"
      ]
    },
    {
      "cell_type": "code",
      "execution_count": 17,
      "metadata": {
        "colab": {
          "base_uri": "https://localhost:8080/"
        },
        "id": "dp3taiby4BLO",
        "outputId": "2aaf32a9-88a3-40f3-9e79-fd8c08ed9c59"
      },
      "outputs": [
        {
          "output_type": "execute_result",
          "data": {
            "text/plain": [
              "ChatMessageHistory(messages=[])"
            ]
          },
          "metadata": {},
          "execution_count": 17
        }
      ],
      "source": [
        "from langchain.memory import ChatMessageHistory\n",
        "\n",
        "history = ChatMessageHistory()\n",
        "history"
      ]
    },
    {
      "cell_type": "code",
      "execution_count": 18,
      "metadata": {
        "id": "6g8jsZHs4BLO"
      },
      "outputs": [],
      "source": [
        "history.add_user_message('Hi')\n",
        "history.add_ai_message('What\\'s up?')"
      ]
    },
    {
      "cell_type": "code",
      "execution_count": 19,
      "metadata": {
        "colab": {
          "base_uri": "https://localhost:8080/"
        },
        "id": "iXfu4BDW4BLO",
        "outputId": "0fc77cce-55fd-4a06-9a63-ab77f961abe4"
      },
      "outputs": [
        {
          "output_type": "execute_result",
          "data": {
            "text/plain": [
              "ChatMessageHistory(messages=[HumanMessage(content='Hi'), AIMessage(content=\"What's up?\")])"
            ]
          },
          "metadata": {},
          "execution_count": 19
        }
      ],
      "source": [
        "history"
      ]
    },
    {
      "cell_type": "markdown",
      "metadata": {
        "id": "VTwdprKj4BLO"
      },
      "source": [
        "#### Conversation buffer"
      ]
    },
    {
      "cell_type": "code",
      "execution_count": 20,
      "metadata": {
        "colab": {
          "base_uri": "https://localhost:8080/"
        },
        "id": "4FmBiU4R4BLO",
        "outputId": "531ab021-b4e4-4486-e615-99f9436a4740"
      },
      "outputs": [
        {
          "output_type": "execute_result",
          "data": {
            "text/plain": [
              "{'history': \"Human: hi\\nAI: What's up?\"}"
            ]
          },
          "metadata": {},
          "execution_count": 20
        }
      ],
      "source": [
        "from langchain.memory import ConversationBufferMemory\n",
        "\n",
        "memory = ConversationBufferMemory()\n",
        "memory.save_context({'input':'hi'},{'output':'What\\'s up?'})\n",
        "memory.load_memory_variables({})"
      ]
    },
    {
      "cell_type": "code",
      "execution_count": 21,
      "metadata": {
        "colab": {
          "base_uri": "https://localhost:8080/"
        },
        "id": "HhuJnszv4BLO",
        "outputId": "6a5531e8-2d4c-4286-b989-d3829c59ac96"
      },
      "outputs": [
        {
          "output_type": "execute_result",
          "data": {
            "text/plain": [
              "{'history': [HumanMessage(content='hi'), AIMessage(content=\"What's up?\")]}"
            ]
          },
          "metadata": {},
          "execution_count": 21
        }
      ],
      "source": [
        "from langchain.memory import ConversationBufferMemory\n",
        "\n",
        "memory = ConversationBufferMemory(return_messages=True)\n",
        "memory.save_context({'input':'hi'},{'output':'What\\'s up?'})\n",
        "memory.load_memory_variables({})"
      ]
    },
    {
      "cell_type": "markdown",
      "metadata": {
        "id": "d2XBzC3j4BLO"
      },
      "source": [
        "#### Conversation buffer window (limit the number of history)"
      ]
    },
    {
      "cell_type": "code",
      "execution_count": 22,
      "metadata": {
        "colab": {
          "base_uri": "https://localhost:8080/"
        },
        "id": "RAwC3Ywc4BLP",
        "outputId": "bc637831-8f3b-4e8a-8b57-055ccc1e7570"
      },
      "outputs": [
        {
          "output_type": "execute_result",
          "data": {
            "text/plain": [
              "{'history': 'Human: What???\\nAI: I dont know!\\nHuman: haha\\nAI: up?'}"
            ]
          },
          "metadata": {},
          "execution_count": 22
        }
      ],
      "source": [
        "from langchain.memory import ConversationBufferWindowMemory\n",
        "\n",
        "memory = ConversationBufferWindowMemory(k=2)\n",
        "memory.save_context({'input':'hi'},{'output':'What\\'s up?'})\n",
        "memory.save_context({'input':'What???'},{'output':'I dont know!'})\n",
        "memory.save_context({'input':'haha'},{'output':'up?'})\n",
        "memory.load_memory_variables({})"
      ]
    },
    {
      "cell_type": "markdown",
      "metadata": {
        "id": "GJvfx7D14BLP"
      },
      "source": [
        "## 4. Chain"
      ]
    },
    {
      "cell_type": "code",
      "execution_count": 23,
      "metadata": {
        "colab": {
          "base_uri": "https://localhost:8080/"
        },
        "id": "fOKi8k504BLP",
        "outputId": "2b17a33a-0fef-4029-f02e-26b507b3e5c0"
      },
      "outputs": [
        {
          "output_type": "stream",
          "name": "stdout",
          "text": [
            "[Errno 2] No such file or directory: './models'\n",
            "/content\n",
            "fatal: destination path 'fastchat-t5-3b-v1.0' already exists and is not an empty directory.\n",
            "/\n"
          ]
        }
      ],
      "source": [
        "%cd ./models\n",
        "!git clone https://huggingface.co/lmsys/fastchat-t5-3b-v1.0\n",
        "%cd ..\n",
        "# kinda too big"
      ]
    },
    {
      "cell_type": "code",
      "source": [
        "!git lfs help smudge"
      ],
      "metadata": {
        "colab": {
          "base_uri": "https://localhost:8080/"
        },
        "id": "M2agJBRo6lUz",
        "outputId": "df8f7a62-974d-4ffc-b9e0-8233c063cb7e"
      },
      "execution_count": 24,
      "outputs": [
        {
          "output_type": "stream",
          "name": "stdout",
          "text": [
            "git lfs smudge [<path>]\n",
            "git lfs smudge --skip [<path>]\n",
            "\n",
            "Read a Git LFS pointer file from standard input and write the contents\n",
            "of the corresponding large file to standard output.  If needed,\n",
            "download the file's contents from the Git LFS endpoint.  The <path>\n",
            "argument, if provided, is only used for a progress bar.\n",
            "\n",
            "Smudge is typically run by Git's smudge filter, configured by the repository's\n",
            "Git attributes.\n",
            "\n",
            "Options:\n",
            "\n",
            "Without any options, git lfs smudge outputs the raw Git LFS content to\n",
            "standard output.\n",
            "\n",
            "* --skip:\n",
            "    Skip automatic downloading of objects on clone or pull.\n",
            "  \n",
            "* GIT_LFS_SKIP_SMUDGE:\n",
            "    Disables the smudging process. For more, see: git lfs config.\n",
            "  \n",
            "Known bugs\n",
            "----------\n",
            "\n",
            "On Windows, Git does not handle files in the working tree larger than 4\n",
            "gigabytes.\n",
            "\n",
            "For more information, see: https://github.com/git-lfs/git-lfs/issues/2434.\n"
          ]
        }
      ]
    },
    {
      "cell_type": "code",
      "execution_count": 25,
      "metadata": {
        "id": "OPelKxvL4BLP"
      },
      "outputs": [],
      "source": [
        "# %cd ./models\n",
        "# !git clone https://huggingface.co/openai-community/gpt2\n",
        "# %cd .."
      ]
    },
    {
      "cell_type": "code",
      "execution_count": 26,
      "metadata": {
        "colab": {
          "base_uri": "https://localhost:8080/"
        },
        "id": "EC8uce3X4BLP",
        "outputId": "6aeead47-2e30-410b-83dc-a8fb35834c08"
      },
      "outputs": [
        {
          "output_type": "stream",
          "name": "stderr",
          "text": [
            "You are using the default legacy behaviour of the <class 'transformers.models.t5.tokenization_t5.T5Tokenizer'>. This is expected, and simply means that the `legacy` (previous) behavior will be used so nothing changes for you. If you want to use the new behaviour, set `legacy=False`. This should only be set if you understand what it means, and thouroughly read the reason why this was added as explained in https://github.com/huggingface/transformers/pull/24565\n",
            "Special tokens have been added in the vocabulary, make sure the associated word embeddings are fine-tuned or trained.\n",
            "Special tokens have been added in the vocabulary, make sure the associated word embeddings are fine-tuned or trained.\n"
          ]
        }
      ],
      "source": [
        "from transformers import AutoTokenizer, pipeline, AutoModelForSeq2SeqLM\n",
        "from transformers import BitsAndBytesConfig\n",
        "from langchain import HuggingFacePipeline\n",
        "\n",
        "model_id = './fastchat-t5-3b-v1.0/'\n",
        "\n",
        "tokenizer = AutoTokenizer.from_pretrained(model_id)\n",
        "tokenizer.pad_token_id = tokenizer.eos_token_id\n",
        "\n",
        "bitsandbyte_config = BitsAndBytesConfig(\n",
        "    load_in_4bit=True,\n",
        "    bnb_4bit_quant_type=\"nf4\",\n",
        "    bnb_4bit_compute_dtype=torch.float16,\n",
        "    bnb_4bit_use_double_quant=True\n",
        ")\n",
        "\n",
        "model = AutoModelForSeq2SeqLM.from_pretrained(\n",
        "    model_id,\n",
        "    quantization_config=bitsandbyte_config,  # caution Nvidia\n",
        "    device_map='auto',\n",
        "    load_in_8bit=True\n",
        ")\n",
        "\n",
        "pipe = pipeline(\n",
        "    task=\"text2text-generation\",\n",
        "    model=model,\n",
        "    tokenizer=tokenizer,\n",
        "    max_new_tokens=256,\n",
        "    batch_size=1,\n",
        "    model_kwargs={\n",
        "        \"temperature\": 0,\n",
        "        \"repetition_penalty\": 1.5\n",
        "    }\n",
        ")\n",
        "\n",
        "llm = HuggingFacePipeline(pipeline=pipe)"
      ]
    },
    {
      "cell_type": "code",
      "execution_count": 27,
      "metadata": {
        "id": "0VMUiZtl4BLW"
      },
      "outputs": [],
      "source": [
        "# from transformers import AutoTokenizer, pipeline, AutoModelForCausalLM\n",
        "# from langchain import HuggingFacePipeline\n",
        "\n",
        "# model_id = './models/gpt2/'  # Path to the cloned GPT-2 model\n",
        "\n",
        "# tokenizer = AutoTokenizer.from_pretrained(model_id)\n",
        "\n",
        "# model = AutoModelForCausalLM.from_pretrained(model_id)\n",
        "\n",
        "# pipe = pipeline(\n",
        "#     task=\"text-generation\",\n",
        "#     model=model,\n",
        "#     tokenizer=tokenizer,\n",
        "#     max_length=256,  # Renamed from max_new_tokens\n",
        "#     device=device,  # Adjust based on your device setup\n",
        "#     temperature=0.7,\n",
        "#     repetition_penalty=1.5\n",
        "# )\n",
        "\n",
        "\n",
        "\n",
        "# llm = HuggingFacePipeline(pipeline=pipe)\n"
      ]
    },
    {
      "cell_type": "markdown",
      "metadata": {
        "id": "SiYA1pT34BLW"
      },
      "source": [
        "#### Class ConversationalRetrievalChain"
      ]
    },
    {
      "cell_type": "code",
      "execution_count": 28,
      "metadata": {
        "id": "NYkLvsm94BLW"
      },
      "outputs": [],
      "source": [
        "from langchain.chains import LLMChain\n",
        "from langchain.chains.conversational_retrieval.prompts import CONDENSE_QUESTION_PROMPT\n",
        "from langchain.memory import ConversationBufferWindowMemory\n",
        "from langchain.chains.question_answering import load_qa_chain\n",
        "from langchain.chains import ConversationalRetrievalChain"
      ]
    },
    {
      "cell_type": "code",
      "execution_count": 29,
      "metadata": {
        "colab": {
          "base_uri": "https://localhost:8080/"
        },
        "id": "IELNrhWw4BLW",
        "outputId": "21fd1fb5-239e-45af-d472-2fb94fefacee"
      },
      "outputs": [
        {
          "output_type": "execute_result",
          "data": {
            "text/plain": [
              "PromptTemplate(input_variables=['chat_history', 'question'], template='Given the following conversation and a follow up question, rephrase the follow up question to be a standalone question, in its original language.\\n\\nChat History:\\n{chat_history}\\nFollow Up Input: {question}\\nStandalone question:')"
            ]
          },
          "metadata": {},
          "execution_count": 29
        }
      ],
      "source": [
        "CONDENSE_QUESTION_PROMPT"
      ]
    },
    {
      "cell_type": "code",
      "execution_count": 30,
      "metadata": {
        "id": "hkI0Nb5R4BLW"
      },
      "outputs": [],
      "source": [
        "# integrate LLM and Prompt\n",
        "question_generator = LLMChain(\n",
        "    llm = llm,\n",
        "    prompt = CONDENSE_QUESTION_PROMPT,\n",
        "    verbose = True\n",
        ")"
      ]
    },
    {
      "cell_type": "code",
      "execution_count": 31,
      "metadata": {
        "colab": {
          "base_uri": "https://localhost:8080/"
        },
        "id": "xEnyuz5G4BLW",
        "outputId": "ac5dabf9-03f9-4b9a-97a8-3563f611ae5c"
      },
      "outputs": [
        {
          "output_type": "stream",
          "name": "stderr",
          "text": [
            "/usr/local/lib/python3.10/dist-packages/langchain_core/_api/deprecation.py:117: LangChainDeprecationWarning: The function `__call__` was deprecated in LangChain 0.1.0 and will be removed in 0.2.0. Use invoke instead.\n",
            "  warn_deprecated(\n"
          ]
        },
        {
          "output_type": "stream",
          "name": "stdout",
          "text": [
            "\n",
            "\n",
            "\u001b[1m> Entering new LLMChain chain...\u001b[0m\n",
            "Prompt after formatting:\n",
            "\u001b[32;1m\u001b[1;3mGiven the following conversation and a follow up question, rephrase the follow up question to be a standalone question, in its original language.\n",
            "\n",
            "Chat History:\n",
            "Human:What is Machine Learning\n",
            "AI:\n",
            "Human:What is Deep Learning\n",
            "AI:\n",
            "Follow Up Input: Comparing both of them\n",
            "Standalone question:\u001b[0m\n",
            "\n",
            "\u001b[1m> Finished chain.\u001b[0m\n"
          ]
        },
        {
          "output_type": "execute_result",
          "data": {
            "text/plain": [
              "{'chat_history': 'Human:What is Machine Learning\\nAI:\\nHuman:What is Deep Learning\\nAI:',\n",
              " 'question': 'Comparing both of them',\n",
              " 'text': '<pad> What  is  the  difference  between  Machine  Learning  and  Deep  Learning  AI?\\n'}"
            ]
          },
          "metadata": {},
          "execution_count": 31
        }
      ],
      "source": [
        "query = 'Comparing both of them'\n",
        "chat_history = \"Human:What is Machine Learning\\nAI:\\nHuman:What is Deep Learning\\nAI:\"\n",
        "\n",
        "question_generator({'chat_history' : chat_history, \"question\" : query})"
      ]
    },
    {
      "cell_type": "markdown",
      "metadata": {
        "id": "KdmDdRAW4BLW"
      },
      "source": [
        "combine_docs_chain"
      ]
    },
    {
      "cell_type": "code",
      "execution_count": 32,
      "metadata": {
        "colab": {
          "base_uri": "https://localhost:8080/"
        },
        "id": "EkShn_bu4BLW",
        "outputId": "36bc86a0-f678-4ec0-c4c6-37ac850cd8f6"
      },
      "outputs": [
        {
          "output_type": "execute_result",
          "data": {
            "text/plain": [
              "StuffDocumentsChain(verbose=True, llm_chain=LLMChain(verbose=True, prompt=PromptTemplate(input_variables=['context', 'question'], template=\"**Welcome to AIT-GPT!**  I'm your friendly AI assistant for all things AIT. \\n\\n**Ask me anything related to the Asian Institute of Technology:** Whether you're curious about academic programs, research areas, faculty expertise, or campus life, I'm here to help! \\n\\n**For the best results, try using specific keywords or phrases** related to your question. \\n\\n**Here are some examples to get you started:**\\n\\n* What are the admission requirements for international students?\\n* What are the current research areas at AIT?\\n* Can you tell me more about the faculty in the School of Engineering and Technology?\\n* When was AIT founded?\\n* What are some of the student clubs and organizations available at AIT?\\n\\n**Now, ask your question!** \\n**Context: {context}**\\n**Question: {question}**\\n    \\n**Answer:**\"), llm=HuggingFacePipeline(pipeline=<transformers.pipelines.text2text_generation.Text2TextGenerationPipeline object at 0x78420ac063e0>)), document_variable_name='context')"
            ]
          },
          "metadata": {},
          "execution_count": 32
        }
      ],
      "source": [
        "doc_chain = load_qa_chain(\n",
        "    llm = llm,\n",
        "    chain_type = 'stuff',\n",
        "    prompt = PROMPT,\n",
        "    verbose = True\n",
        ")\n",
        "doc_chain"
      ]
    },
    {
      "cell_type": "code",
      "execution_count": 33,
      "metadata": {
        "colab": {
          "base_uri": "https://localhost:8080/"
        },
        "id": "BVjOueQ_4BLW",
        "outputId": "a41c9c09-5cec-4a94-ac95-8d7876bd1bfc"
      },
      "outputs": [
        {
          "output_type": "stream",
          "name": "stdout",
          "text": [
            "\n",
            "\n",
            "\u001b[1m> Entering new StuffDocumentsChain chain...\u001b[0m\n",
            "\n",
            "\n",
            "\u001b[1m> Entering new LLMChain chain...\u001b[0m\n",
            "Prompt after formatting:\n",
            "\u001b[32;1m\u001b[1;3m**Welcome to AIT-GPT!**  I'm your friendly AI assistant for all things AIT. \n",
            "\n",
            "**Ask me anything related to the Asian Institute of Technology:** Whether you're curious about academic programs, research areas, faculty expertise, or campus life, I'm here to help! \n",
            "\n",
            "**For the best results, try using specific keywords or phrases** related to your question. \n",
            "\n",
            "**Here are some examples to get you started:**\n",
            "\n",
            "* What are the admission requirements for international students?\n",
            "* What are the current research areas at AIT?\n",
            "* Can you tell me more about the faculty in the School of Engineering and Technology?\n",
            "* When was AIT founded?\n",
            "* What are some of the student clubs and organizations available at AIT?\n",
            "\n",
            "**Now, ask your question!** \n",
            "**Context: a self-contained international community with a cosmopolitan approach to living and \n",
            "learning. \n",
            " \n",
            "Since 1959, AIT has carried out its mission “to develop highly qualified and committed \n",
            "professionals who play a leading role in the region’s sustainable development and its \n",
            "integration into the global economy” by supporting technological change and \n",
            "sustainable development through higher learning, research, capacity building and \n",
            "outreach. \n",
            " \n",
            "AIT’s renowned degree programs are administered by its School of Engineering and \n",
            "Technology; School of Environment, Resources and Development; and School of \n",
            "Management. Students benefit from challenging academic programs and exciting\n",
            "\n",
            "I. INTRODUCING AIT \n",
            " \n",
            " \n",
            "The Asian Institute of Technology (AIT) is a leading international higher learning \n",
            "institute of engineering and technology, environment, resources and development, and \n",
            "management. \n",
            " \n",
            "AIT offers the opportunity to study at an advanced international level at an Asian \n",
            "institution with a strong reputation for applied research. Many progressive \n",
            "developments in the application of engineering, technology, management, and \n",
            "sustainable development have originated at AIT. \n",
            " \n",
            "At its beautiful main campus located just north of Bangkok, Thailand, AIT operates as \n",
            "a self-contained international community with a cosmopolitan approach to living and \n",
            "learning.\n",
            "\n",
            "studies by providing testing services, one-on-one tutorials, language \n",
            "programs, academic writing courses and workshops. \n",
            " \n",
            "English is the official language for all activities at AIT. While some of you are \n",
            "very fluent speakers of English, at AIT all degree program students are \n",
            "expected to become competent academic writers. Therefore, all AIT degree \n",
            "program students are required to fulfill the English requirements before they \n",
            "can graduate. \n",
            " \n",
            "In order to fulfill the English requirements, upon arrival, incoming degree \n",
            "program students who have taken the online AIT English Entry Test (EET) or \n",
            "have submitted a certificate of English Medium Instruction will be required to\n",
            "\n",
            "around the world. The Weekly AIT Campus Bulletin, which publicizes details of \n",
            "events held at or relevant to AIT, is also maintained by Public Affairs. \n",
            "  \n",
            "Branding and Image: Public Affairs promotes and maintains AIT's brand identity \n",
            "and image through the use of consistent branding tools such as logos, color codes, \n",
            "fonts, presentation templates, mood, tone, etc. AIT Brand Book, which provides \n",
            "style guides, is available upon request to assist you with the development of \n",
            "promotional material. \n",
            "  \n",
            "Media Relations: To communicate the institute’s ‘Social Impact with Innovation’ \n",
            "and maintain its visibility, Public Affairs is responsible for developing press releases,**\n",
            "**Question: What is AIT?**\n",
            "    \n",
            "**Answer:**\u001b[0m\n",
            "\n",
            "\u001b[1m> Finished chain.\u001b[0m\n",
            "\n",
            "\u001b[1m> Finished chain.\u001b[0m\n"
          ]
        },
        {
          "output_type": "execute_result",
          "data": {
            "text/plain": [
              "{'input_documents': [Document(page_content='a self-contained international community with a cosmopolitan approach to living and \\nlearning. \\n \\nSince 1959, AIT has carried out its mission “to develop highly qualified and committed \\nprofessionals who play a leading role in the region’s sustainable development and its \\nintegration into the global economy” by supporting technological change and \\nsustainable development through higher learning, research, capacity building and \\noutreach. \\n \\nAIT’s renowned degree programs are administered by its School of Engineering and \\nTechnology; School of Environment, Resources and Development; and School of \\nManagement. Students benefit from challenging academic programs and exciting', metadata={'source': 'Student-Handbook_August-2023-Semester_FINAL_as-of-8-Aug-2023.pdf', 'file_path': 'Student-Handbook_August-2023-Semester_FINAL_as-of-8-Aug-2023.pdf', 'page': 2, 'total_pages': 95, 'format': 'PDF 1.4', 'title': '(\\\\(NDIJobGUID=fb11135f-67cd-4d80-beec-458427a81384\\\\)Microsoft Word - Student Handbook_August 2023 Semester_FINAL_as of 8 Aug 2023)', 'author': 'Pwint', 'subject': '', 'keywords': '', 'creator': 'PScript5.dll Version 5.2.2', 'producer': 'GPL Ghostscript 9.06', 'creationDate': \"D:20230809142824+07'00'\", 'modDate': \"D:20230809142824+07'00'\", 'trapped': ''}),\n",
              "  Document(page_content='I. INTRODUCING AIT \\n \\n \\nThe Asian Institute of Technology (AIT) is a leading international higher learning \\ninstitute of engineering and technology, environment, resources and development, and \\nmanagement. \\n \\nAIT offers the opportunity to study at an advanced international level at an Asian \\ninstitution with a strong reputation for applied research. Many progressive \\ndevelopments in the application of engineering, technology, management, and \\nsustainable development have originated at AIT. \\n \\nAt its beautiful main campus located just north of Bangkok, Thailand, AIT operates as \\na self-contained international community with a cosmopolitan approach to living and \\nlearning.', metadata={'source': 'Student-Handbook_August-2023-Semester_FINAL_as-of-8-Aug-2023.pdf', 'file_path': 'Student-Handbook_August-2023-Semester_FINAL_as-of-8-Aug-2023.pdf', 'page': 2, 'total_pages': 95, 'format': 'PDF 1.4', 'title': '(\\\\(NDIJobGUID=fb11135f-67cd-4d80-beec-458427a81384\\\\)Microsoft Word - Student Handbook_August 2023 Semester_FINAL_as of 8 Aug 2023)', 'author': 'Pwint', 'subject': '', 'keywords': '', 'creator': 'PScript5.dll Version 5.2.2', 'producer': 'GPL Ghostscript 9.06', 'creationDate': \"D:20230809142824+07'00'\", 'modDate': \"D:20230809142824+07'00'\", 'trapped': ''}),\n",
              "  Document(page_content='studies by providing testing services, one-on-one tutorials, language \\nprograms, academic writing courses and workshops. \\n \\nEnglish is the official language for all activities at AIT. While some of you are \\nvery fluent speakers of English, at AIT all degree program students are \\nexpected to become competent academic writers. Therefore, all AIT degree \\nprogram students are required to fulfill the English requirements before they \\ncan graduate. \\n \\nIn order to fulfill the English requirements, upon arrival, incoming degree \\nprogram students who have taken the online AIT English Entry Test (EET) or \\nhave submitted a certificate of English Medium Instruction will be required to', metadata={'source': 'Student-Handbook_August-2023-Semester_FINAL_as-of-8-Aug-2023.pdf', 'file_path': 'Student-Handbook_August-2023-Semester_FINAL_as-of-8-Aug-2023.pdf', 'page': 75, 'total_pages': 95, 'format': 'PDF 1.4', 'title': '(\\\\(NDIJobGUID=fb11135f-67cd-4d80-beec-458427a81384\\\\)Microsoft Word - Student Handbook_August 2023 Semester_FINAL_as of 8 Aug 2023)', 'author': 'Pwint', 'subject': '', 'keywords': '', 'creator': 'PScript5.dll Version 5.2.2', 'producer': 'GPL Ghostscript 9.06', 'creationDate': \"D:20230809142824+07'00'\", 'modDate': \"D:20230809142824+07'00'\", 'trapped': ''}),\n",
              "  Document(page_content=\"around the world. The Weekly AIT Campus Bulletin, which publicizes details of \\nevents held at or relevant to AIT, is also maintained by Public Affairs. \\n  \\nBranding and Image: Public Affairs promotes and maintains AIT's brand identity \\nand image through the use of consistent branding tools such as logos, color codes, \\nfonts, presentation templates, mood, tone, etc. AIT Brand Book, which provides \\nstyle guides, is available upon request to assist you with the development of \\npromotional material. \\n  \\nMedia Relations: To communicate the institute’s ‘Social Impact with Innovation’ \\nand maintain its visibility, Public Affairs is responsible for developing press releases,\", metadata={'source': 'Student-Handbook_August-2023-Semester_FINAL_as-of-8-Aug-2023.pdf', 'file_path': 'Student-Handbook_August-2023-Semester_FINAL_as-of-8-Aug-2023.pdf', 'page': 74, 'total_pages': 95, 'format': 'PDF 1.4', 'title': '(\\\\(NDIJobGUID=fb11135f-67cd-4d80-beec-458427a81384\\\\)Microsoft Word - Student Handbook_August 2023 Semester_FINAL_as of 8 Aug 2023)', 'author': 'Pwint', 'subject': '', 'keywords': '', 'creator': 'PScript5.dll Version 5.2.2', 'producer': 'GPL Ghostscript 9.06', 'creationDate': \"D:20230809142824+07'00'\", 'modDate': \"D:20230809142824+07'00'\", 'trapped': ''})],\n",
              " 'question': 'What is AIT?',\n",
              " 'output_text': '<pad> The  Asian  Institute  of  Technology  (AIT)  is  a  leading  international  higher  learning  institute  of  engineering  and  technology,  environment,  resources  and  development,  and  management.  AIT  offers  the  opportunity  to  study  at  an  advanced  international  level  at  an  Asian  institution  with  a  strong  reputation  for  applied  research.  Many  progressive  developments  in  the  application  of  engineering,  technology,  management,  and  sustainable  development  have  originated  at  AIT.  At  its  beautiful  main  campus  located  just  north  of  Bangkok,  Thailand,  AIT  operates  as  a  self-contained  international  community  with  a  cosmopolitan  approach  to  living  and  learning.\\n'}"
            ]
          },
          "metadata": {},
          "execution_count": 33
        }
      ],
      "source": [
        "query = \"What is AIT?\"\n",
        "input_document = retriever.get_relevant_documents(query)\n",
        "\n",
        "doc_chain({'input_documents':input_document, 'question':query})"
      ]
    },
    {
      "cell_type": "code",
      "execution_count": 34,
      "metadata": {
        "colab": {
          "base_uri": "https://localhost:8080/"
        },
        "id": "Md_U75pb4BLW",
        "outputId": "75eb7b55-4525-4cdb-a1e8-304197584121"
      },
      "outputs": [
        {
          "output_type": "execute_result",
          "data": {
            "text/plain": [
              "ConversationalRetrievalChain(memory=ConversationBufferWindowMemory(output_key='answer', return_messages=True, memory_key='chat_history', k=3), verbose=True, combine_docs_chain=StuffDocumentsChain(verbose=True, llm_chain=LLMChain(verbose=True, prompt=PromptTemplate(input_variables=['context', 'question'], template=\"**Welcome to AIT-GPT!**  I'm your friendly AI assistant for all things AIT. \\n\\n**Ask me anything related to the Asian Institute of Technology:** Whether you're curious about academic programs, research areas, faculty expertise, or campus life, I'm here to help! \\n\\n**For the best results, try using specific keywords or phrases** related to your question. \\n\\n**Here are some examples to get you started:**\\n\\n* What are the admission requirements for international students?\\n* What are the current research areas at AIT?\\n* Can you tell me more about the faculty in the School of Engineering and Technology?\\n* When was AIT founded?\\n* What are some of the student clubs and organizations available at AIT?\\n\\n**Now, ask your question!** \\n**Context: {context}**\\n**Question: {question}**\\n    \\n**Answer:**\"), llm=HuggingFacePipeline(pipeline=<transformers.pipelines.text2text_generation.Text2TextGenerationPipeline object at 0x78420ac063e0>)), document_variable_name='context'), question_generator=LLMChain(verbose=True, prompt=PromptTemplate(input_variables=['chat_history', 'question'], template='Given the following conversation and a follow up question, rephrase the follow up question to be a standalone question, in its original language.\\n\\nChat History:\\n{chat_history}\\nFollow Up Input: {question}\\nStandalone question:'), llm=HuggingFacePipeline(pipeline=<transformers.pipelines.text2text_generation.Text2TextGenerationPipeline object at 0x78420ac063e0>)), return_source_documents=True, get_chat_history=<function <lambda> at 0x784203518a60>, retriever=VectorStoreRetriever(tags=['FAISS', 'HuggingFaceInstructEmbeddings'], vectorstore=<langchain_community.vectorstores.faiss.FAISS object at 0x784315f0e830>))"
            ]
          },
          "metadata": {},
          "execution_count": 34
        }
      ],
      "source": [
        "memory = ConversationBufferWindowMemory(\n",
        "    k=3,\n",
        "    memory_key = \"chat_history\",\n",
        "    return_messages = True,\n",
        "    output_key = 'answer'\n",
        ")\n",
        "\n",
        "chain = ConversationalRetrievalChain(\n",
        "    retriever=retriever,\n",
        "    question_generator=question_generator,\n",
        "    combine_docs_chain=doc_chain,\n",
        "    return_source_documents=True,\n",
        "    memory=memory,\n",
        "    verbose=True,\n",
        "    get_chat_history=lambda h : h\n",
        ")\n",
        "chain"
      ]
    },
    {
      "cell_type": "markdown",
      "metadata": {
        "id": "auqugF8D4BLW"
      },
      "source": [
        "## 5. Chatbot"
      ]
    },
    {
      "cell_type": "code",
      "execution_count": 35,
      "metadata": {
        "colab": {
          "base_uri": "https://localhost:8080/"
        },
        "id": "Y1UU4FFT4BLW",
        "outputId": "fb7ae944-5ccb-492b-f5af-3f5f5113088c"
      },
      "outputs": [
        {
          "output_type": "stream",
          "name": "stdout",
          "text": [
            "\n",
            "\n",
            "\u001b[1m> Entering new ConversationalRetrievalChain chain...\u001b[0m\n",
            "\n",
            "\n",
            "\u001b[1m> Entering new StuffDocumentsChain chain...\u001b[0m\n",
            "\n",
            "\n",
            "\u001b[1m> Entering new LLMChain chain...\u001b[0m\n",
            "Prompt after formatting:\n",
            "\u001b[32;1m\u001b[1;3m**Welcome to AIT-GPT!**  I'm your friendly AI assistant for all things AIT. \n",
            "\n",
            "**Ask me anything related to the Asian Institute of Technology:** Whether you're curious about academic programs, research areas, faculty expertise, or campus life, I'm here to help! \n",
            "\n",
            "**For the best results, try using specific keywords or phrases** related to your question. \n",
            "\n",
            "**Here are some examples to get you started:**\n",
            "\n",
            "* What are the admission requirements for international students?\n",
            "* What are the current research areas at AIT?\n",
            "* Can you tell me more about the faculty in the School of Engineering and Technology?\n",
            "* When was AIT founded?\n",
            "* What are some of the student clubs and organizations available at AIT?\n",
            "\n",
            "**Now, ask your question!** \n",
            "**Context: involved in the claimed harassment, abuse or discrimination, and acceptable to \n",
            "both sides, (probably, though not exclusively, someone from the list in Section \n",
            "C-2.3 above). The agreed individual(s) will meet privately and/or together with \n",
            "each of the sides involved, attempting to clarify their perceptions, and to reach \n",
            "a mutually- acceptable understanding for their future interactions. Outcomes of\n",
            "\n",
            "(https://www.ait.ac.th). For content updates, please send an email to Public Affairs. \n",
            "  \n",
            "Contact: Public Affairs office is located on the second floor of the Administration \n",
            "Building. \n",
            "Phone:02-524-5830 \n",
            "Email: opa@ait.ac.th\n",
            "\n",
            "Institute, and for treating them fairly, regardless of nationality, race, social \n",
            "background, gender, age, marital status, family status, sexual orientation, \n",
            "disability, economic status, or political belief or affiliation. \n",
            "8. Students are responsible for sincerely performing every course evaluation. \n",
            "9. Students are responsible to plan their own work loads, so that they complete \n",
            "all assignments by the due dates. Students are responsible for ensuring that \n",
            "they develop sensible work patterns to complete the assigned work. \n",
            "10. While students have the right to freedom of expression, including the right to \n",
            "dissent, protest, or take reasoned exception to the information and views\n",
            "\n",
            "Dean, School of Management \n",
            "02-524-5657 \n",
            "Director, Academic Administration \n",
            "02-524-6304 \n",
            "Acting Director, Student \n",
            "Affairs/Registry/Admissions \n",
            "02-524-5024 \n",
            "Scholarships \n",
            "02-524-5012 \n",
            "Career Center and Student Welfare Unit \n",
            "02-524-6326, 02-524-6744**\n",
            "**Question: Who are you by the way?**\n",
            "    \n",
            "**Answer:**\u001b[0m\n",
            "\n",
            "\u001b[1m> Finished chain.\u001b[0m\n",
            "\n",
            "\u001b[1m> Finished chain.\u001b[0m\n",
            "\n",
            "\u001b[1m> Finished chain.\u001b[0m\n"
          ]
        },
        {
          "output_type": "execute_result",
          "data": {
            "text/plain": [
              "{'question': 'Who are you by the way?',\n",
              " 'chat_history': [],\n",
              " 'answer': '<pad> I  am  an  AI  assistant  created  by  Google  that  can  assist  you  with  information  about  the  Asian  Institute  of  Technology  (AIT).  I  am  designed  to  provide  helpful  and  informative  responses  to  your  questions  about  AIT.  How  can  I  assist  you  today?\\n',\n",
              " 'source_documents': [Document(page_content='involved in the claimed harassment, abuse or discrimination, and acceptable to \\nboth sides, (probably, though not exclusively, someone from the list in Section \\nC-2.3 above). The agreed individual(s) will meet privately and/or together with \\neach of the sides involved, attempting to clarify their perceptions, and to reach \\na mutually- acceptable understanding for their future interactions. Outcomes of', metadata={'source': 'Student-Handbook_August-2023-Semester_FINAL_as-of-8-Aug-2023.pdf', 'file_path': 'Student-Handbook_August-2023-Semester_FINAL_as-of-8-Aug-2023.pdf', 'page': 38, 'total_pages': 95, 'format': 'PDF 1.4', 'title': '(\\\\(NDIJobGUID=fb11135f-67cd-4d80-beec-458427a81384\\\\)Microsoft Word - Student Handbook_August 2023 Semester_FINAL_as of 8 Aug 2023)', 'author': 'Pwint', 'subject': '', 'keywords': '', 'creator': 'PScript5.dll Version 5.2.2', 'producer': 'GPL Ghostscript 9.06', 'creationDate': \"D:20230809142824+07'00'\", 'modDate': \"D:20230809142824+07'00'\", 'trapped': ''}),\n",
              "  Document(page_content='(https://www.ait.ac.th). For content updates, please send an email to Public Affairs. \\n  \\nContact: Public Affairs office is located on the second floor of the Administration \\nBuilding. \\nPhone:02-524-5830 \\nEmail: opa@ait.ac.th', metadata={'source': 'Student-Handbook_August-2023-Semester_FINAL_as-of-8-Aug-2023.pdf', 'file_path': 'Student-Handbook_August-2023-Semester_FINAL_as-of-8-Aug-2023.pdf', 'page': 74, 'total_pages': 95, 'format': 'PDF 1.4', 'title': '(\\\\(NDIJobGUID=fb11135f-67cd-4d80-beec-458427a81384\\\\)Microsoft Word - Student Handbook_August 2023 Semester_FINAL_as of 8 Aug 2023)', 'author': 'Pwint', 'subject': '', 'keywords': '', 'creator': 'PScript5.dll Version 5.2.2', 'producer': 'GPL Ghostscript 9.06', 'creationDate': \"D:20230809142824+07'00'\", 'modDate': \"D:20230809142824+07'00'\", 'trapped': ''}),\n",
              "  Document(page_content='Institute, and for treating them fairly, regardless of nationality, race, social \\nbackground, gender, age, marital status, family status, sexual orientation, \\ndisability, economic status, or political belief or affiliation. \\n8. Students are responsible for sincerely performing every course evaluation. \\n9. Students are responsible to plan their own work loads, so that they complete \\nall assignments by the due dates. Students are responsible for ensuring that \\nthey develop sensible work patterns to complete the assigned work. \\n10. While students have the right to freedom of expression, including the right to \\ndissent, protest, or take reasoned exception to the information and views', metadata={'source': 'Student-Handbook_August-2023-Semester_FINAL_as-of-8-Aug-2023.pdf', 'file_path': 'Student-Handbook_August-2023-Semester_FINAL_as-of-8-Aug-2023.pdf', 'page': 5, 'total_pages': 95, 'format': 'PDF 1.4', 'title': '(\\\\(NDIJobGUID=fb11135f-67cd-4d80-beec-458427a81384\\\\)Microsoft Word - Student Handbook_August 2023 Semester_FINAL_as of 8 Aug 2023)', 'author': 'Pwint', 'subject': '', 'keywords': '', 'creator': 'PScript5.dll Version 5.2.2', 'producer': 'GPL Ghostscript 9.06', 'creationDate': \"D:20230809142824+07'00'\", 'modDate': \"D:20230809142824+07'00'\", 'trapped': ''}),\n",
              "  Document(page_content='Dean, School of Management \\n02-524-5657 \\nDirector, Academic Administration \\n02-524-6304 \\nActing Director, Student \\nAffairs/Registry/Admissions \\n02-524-5024 \\nScholarships \\n02-524-5012 \\nCareer Center and Student Welfare Unit \\n02-524-6326, 02-524-6744', metadata={'source': 'Student-Handbook_August-2023-Semester_FINAL_as-of-8-Aug-2023.pdf', 'file_path': 'Student-Handbook_August-2023-Semester_FINAL_as-of-8-Aug-2023.pdf', 'page': 94, 'total_pages': 95, 'format': 'PDF 1.4', 'title': '(\\\\(NDIJobGUID=fb11135f-67cd-4d80-beec-458427a81384\\\\)Microsoft Word - Student Handbook_August 2023 Semester_FINAL_as of 8 Aug 2023)', 'author': 'Pwint', 'subject': '', 'keywords': '', 'creator': 'PScript5.dll Version 5.2.2', 'producer': 'GPL Ghostscript 9.06', 'creationDate': \"D:20230809142824+07'00'\", 'modDate': \"D:20230809142824+07'00'\", 'trapped': ''})]}"
            ]
          },
          "metadata": {},
          "execution_count": 35
        }
      ],
      "source": [
        "prompt_question = \"Who are you by the way?\"\n",
        "answer = chain({\"question\":prompt_question})\n",
        "answer"
      ]
    },
    {
      "cell_type": "code",
      "execution_count": 36,
      "metadata": {
        "colab": {
          "base_uri": "https://localhost:8080/"
        },
        "id": "kqp5rfL64BLW",
        "outputId": "cfa1e89d-dbbf-4d38-dc9a-9ca928b75d56"
      },
      "outputs": [
        {
          "output_type": "stream",
          "name": "stdout",
          "text": [
            "\n",
            "\n",
            "\u001b[1m> Entering new ConversationalRetrievalChain chain...\u001b[0m\n",
            "\n",
            "\n",
            "\u001b[1m> Entering new LLMChain chain...\u001b[0m\n",
            "Prompt after formatting:\n",
            "\u001b[32;1m\u001b[1;3mGiven the following conversation and a follow up question, rephrase the follow up question to be a standalone question, in its original language.\n",
            "\n",
            "Chat History:\n",
            "[HumanMessage(content='Who are you by the way?'), AIMessage(content='<pad> I  am  an  AI  assistant  created  by  Google  that  can  assist  you  with  information  about  the  Asian  Institute  of  Technology  (AIT).  I  am  designed  to  provide  helpful  and  informative  responses  to  your  questions  about  AIT.  How  can  I  assist  you  today?\\n')]\n",
            "Follow Up Input: How many Academic Program?\n",
            "Standalone question:\u001b[0m\n",
            "\n",
            "\u001b[1m> Finished chain.\u001b[0m\n",
            "\n",
            "\n",
            "\u001b[1m> Entering new StuffDocumentsChain chain...\u001b[0m\n",
            "\n",
            "\n",
            "\u001b[1m> Entering new LLMChain chain...\u001b[0m\n",
            "Prompt after formatting:\n",
            "\u001b[32;1m\u001b[1;3m**Welcome to AIT-GPT!**  I'm your friendly AI assistant for all things AIT. \n",
            "\n",
            "**Ask me anything related to the Asian Institute of Technology:** Whether you're curious about academic programs, research areas, faculty expertise, or campus life, I'm here to help! \n",
            "\n",
            "**For the best results, try using specific keywords or phrases** related to your question. \n",
            "\n",
            "**Here are some examples to get you started:**\n",
            "\n",
            "* What are the admission requirements for international students?\n",
            "* What are the current research areas at AIT?\n",
            "* Can you tell me more about the faculty in the School of Engineering and Technology?\n",
            "* When was AIT founded?\n",
            "* What are some of the student clubs and organizations available at AIT?\n",
            "\n",
            "**Now, ask your question!** \n",
            "**Context: a self-contained international community with a cosmopolitan approach to living and \n",
            "learning. \n",
            " \n",
            "Since 1959, AIT has carried out its mission “to develop highly qualified and committed \n",
            "professionals who play a leading role in the region’s sustainable development and its \n",
            "integration into the global economy” by supporting technological change and \n",
            "sustainable development through higher learning, research, capacity building and \n",
            "outreach. \n",
            " \n",
            "AIT’s renowned degree programs are administered by its School of Engineering and \n",
            "Technology; School of Environment, Resources and Development; and School of \n",
            "Management. Students benefit from challenging academic programs and exciting\n",
            "\n",
            "AIT’s main campus offers fast and easy access to Bangkok, a city at the crossroads of \n",
            "East, Southeast and South Asia. AIT has also established a key learning center in \n",
            "Vietnam. \n",
            " \n",
            "With friends all over the globe, a strong history of academic excellence, and an \n",
            "enduring reputation for responding to emerging regional and global challenges such as \n",
            "climate change and sustainability, AIT is advancing new understanding and applying \n",
            "relevant technological solutions across Asia through its knowledge hub in Thailand. \n",
            " \n",
            "AIT Quick Facts \n",
            "Students: 1,400+ from 40+ countries \n",
            "Faculty: 134 internationally recruited Faculty from 20+ countries\n",
            "\n",
            "For more information on the AIT Career \n",
            "Center activities, please visit \n",
            "www.careercenter.ait.ac.th \n",
            " \n",
            "The Career Center & Student Welfare Unit can be reached \n",
            "at Tel. (662) 524-6326 (Career Center), (662) 524-6744 \n",
            "(Student Welfare/Medical Insurance) or visit us at Ground \n",
            "Floor, Office of Student Affairs (OSA), Administration \n",
            "Building. \n",
            " \n",
            " \n",
            "POLICIES AND PROCEDURES ON STUDENT ASSISTANTSHIP \n",
            "I. PURPOSE \n",
            "To describe the policies and procedures for part-time appointment \n",
            "of AIT students as \n",
            "assistants. \n",
            " II. POLICIES \n",
            " A. General \n",
            " 1. Students registered for the master and doctoral degree are \n",
            "eligible for appointment on an hourly basis as a Student Assistant,\n",
            "\n",
            "studies by providing testing services, one-on-one tutorials, language \n",
            "programs, academic writing courses and workshops. \n",
            " \n",
            "English is the official language for all activities at AIT. While some of you are \n",
            "very fluent speakers of English, at AIT all degree program students are \n",
            "expected to become competent academic writers. Therefore, all AIT degree \n",
            "program students are required to fulfill the English requirements before they \n",
            "can graduate. \n",
            " \n",
            "In order to fulfill the English requirements, upon arrival, incoming degree \n",
            "program students who have taken the online AIT English Entry Test (EET) or \n",
            "have submitted a certificate of English Medium Instruction will be required to**\n",
            "**Question: <pad> How  many  academic  programs  does  AIT  offer?\n",
            "**\n",
            "    \n",
            "**Answer:**\u001b[0m\n",
            "\n",
            "\u001b[1m> Finished chain.\u001b[0m\n",
            "\n",
            "\u001b[1m> Finished chain.\u001b[0m\n",
            "\n",
            "\u001b[1m> Finished chain.\u001b[0m\n"
          ]
        },
        {
          "output_type": "execute_result",
          "data": {
            "text/plain": [
              "{'question': 'How many Academic Program?',\n",
              " 'chat_history': [HumanMessage(content='Who are you by the way?'),\n",
              "  AIMessage(content='<pad> I  am  an  AI  assistant  created  by  Google  that  can  assist  you  with  information  about  the  Asian  Institute  of  Technology  (AIT).  I  am  designed  to  provide  helpful  and  informative  responses  to  your  questions  about  AIT.  How  can  I  assist  you  today?\\n')],\n",
              " 'answer': '<pad> AIT  offers  a  total  of  62  academic  programs,  including  undergraduate,  graduate,  and  postgraduate  degrees.\\n',\n",
              " 'source_documents': [Document(page_content='a self-contained international community with a cosmopolitan approach to living and \\nlearning. \\n \\nSince 1959, AIT has carried out its mission “to develop highly qualified and committed \\nprofessionals who play a leading role in the region’s sustainable development and its \\nintegration into the global economy” by supporting technological change and \\nsustainable development through higher learning, research, capacity building and \\noutreach. \\n \\nAIT’s renowned degree programs are administered by its School of Engineering and \\nTechnology; School of Environment, Resources and Development; and School of \\nManagement. Students benefit from challenging academic programs and exciting', metadata={'source': 'Student-Handbook_August-2023-Semester_FINAL_as-of-8-Aug-2023.pdf', 'file_path': 'Student-Handbook_August-2023-Semester_FINAL_as-of-8-Aug-2023.pdf', 'page': 2, 'total_pages': 95, 'format': 'PDF 1.4', 'title': '(\\\\(NDIJobGUID=fb11135f-67cd-4d80-beec-458427a81384\\\\)Microsoft Word - Student Handbook_August 2023 Semester_FINAL_as of 8 Aug 2023)', 'author': 'Pwint', 'subject': '', 'keywords': '', 'creator': 'PScript5.dll Version 5.2.2', 'producer': 'GPL Ghostscript 9.06', 'creationDate': \"D:20230809142824+07'00'\", 'modDate': \"D:20230809142824+07'00'\", 'trapped': ''}),\n",
              "  Document(page_content='AIT’s main campus offers fast and easy access to Bangkok, a city at the crossroads of \\nEast, Southeast and South Asia. AIT has also established a key learning center in \\nVietnam. \\n \\nWith friends all over the globe, a strong history of academic excellence, and an \\nenduring reputation for responding to emerging regional and global challenges such as \\nclimate change and sustainability, AIT is advancing new understanding and applying \\nrelevant technological solutions across Asia through its knowledge hub in Thailand. \\n \\nAIT Quick Facts \\nStudents: 1,400+ from 40+ countries \\nFaculty: 134 internationally recruited Faculty from 20+ countries', metadata={'source': 'Student-Handbook_August-2023-Semester_FINAL_as-of-8-Aug-2023.pdf', 'file_path': 'Student-Handbook_August-2023-Semester_FINAL_as-of-8-Aug-2023.pdf', 'page': 2, 'total_pages': 95, 'format': 'PDF 1.4', 'title': '(\\\\(NDIJobGUID=fb11135f-67cd-4d80-beec-458427a81384\\\\)Microsoft Word - Student Handbook_August 2023 Semester_FINAL_as of 8 Aug 2023)', 'author': 'Pwint', 'subject': '', 'keywords': '', 'creator': 'PScript5.dll Version 5.2.2', 'producer': 'GPL Ghostscript 9.06', 'creationDate': \"D:20230809142824+07'00'\", 'modDate': \"D:20230809142824+07'00'\", 'trapped': ''}),\n",
              "  Document(page_content='For more information on the AIT Career \\nCenter activities, please visit \\nwww.careercenter.ait.ac.th \\n \\nThe Career Center & Student Welfare Unit can be reached \\nat Tel. (662) 524-6326 (Career Center), (662) 524-6744 \\n(Student Welfare/Medical Insurance) or visit us at Ground \\nFloor, Office of Student Affairs (OSA), Administration \\nBuilding. \\n \\n \\nPOLICIES AND PROCEDURES ON STUDENT ASSISTANTSHIP \\nI. PURPOSE \\nTo describe the policies and procedures for part-time appointment \\nof AIT students as \\nassistants. \\n II. POLICIES \\n A. General \\n 1. Students registered for the master and doctoral degree are \\neligible for appointment on an hourly basis as a Student Assistant,', metadata={'source': 'Student-Handbook_August-2023-Semester_FINAL_as-of-8-Aug-2023.pdf', 'file_path': 'Student-Handbook_August-2023-Semester_FINAL_as-of-8-Aug-2023.pdf', 'page': 30, 'total_pages': 95, 'format': 'PDF 1.4', 'title': '(\\\\(NDIJobGUID=fb11135f-67cd-4d80-beec-458427a81384\\\\)Microsoft Word - Student Handbook_August 2023 Semester_FINAL_as of 8 Aug 2023)', 'author': 'Pwint', 'subject': '', 'keywords': '', 'creator': 'PScript5.dll Version 5.2.2', 'producer': 'GPL Ghostscript 9.06', 'creationDate': \"D:20230809142824+07'00'\", 'modDate': \"D:20230809142824+07'00'\", 'trapped': ''}),\n",
              "  Document(page_content='studies by providing testing services, one-on-one tutorials, language \\nprograms, academic writing courses and workshops. \\n \\nEnglish is the official language for all activities at AIT. While some of you are \\nvery fluent speakers of English, at AIT all degree program students are \\nexpected to become competent academic writers. Therefore, all AIT degree \\nprogram students are required to fulfill the English requirements before they \\ncan graduate. \\n \\nIn order to fulfill the English requirements, upon arrival, incoming degree \\nprogram students who have taken the online AIT English Entry Test (EET) or \\nhave submitted a certificate of English Medium Instruction will be required to', metadata={'source': 'Student-Handbook_August-2023-Semester_FINAL_as-of-8-Aug-2023.pdf', 'file_path': 'Student-Handbook_August-2023-Semester_FINAL_as-of-8-Aug-2023.pdf', 'page': 75, 'total_pages': 95, 'format': 'PDF 1.4', 'title': '(\\\\(NDIJobGUID=fb11135f-67cd-4d80-beec-458427a81384\\\\)Microsoft Word - Student Handbook_August 2023 Semester_FINAL_as of 8 Aug 2023)', 'author': 'Pwint', 'subject': '', 'keywords': '', 'creator': 'PScript5.dll Version 5.2.2', 'producer': 'GPL Ghostscript 9.06', 'creationDate': \"D:20230809142824+07'00'\", 'modDate': \"D:20230809142824+07'00'\", 'trapped': ''})]}"
            ]
          },
          "metadata": {},
          "execution_count": 36
        }
      ],
      "source": [
        "prompt_question = \"How many Academic Program?\"\n",
        "answer = chain({\"question\":prompt_question})\n",
        "answer"
      ]
    },
    {
      "cell_type": "code",
      "execution_count": 37,
      "metadata": {
        "colab": {
          "base_uri": "https://localhost:8080/"
        },
        "id": "BHFP6KsJ4BLW",
        "outputId": "3404aa8f-bd85-4f0b-9115-76c77831b60f"
      },
      "outputs": [
        {
          "output_type": "stream",
          "name": "stdout",
          "text": [
            "\n",
            "\n",
            "\u001b[1m> Entering new ConversationalRetrievalChain chain...\u001b[0m\n",
            "\n",
            "\n",
            "\u001b[1m> Entering new LLMChain chain...\u001b[0m\n",
            "Prompt after formatting:\n",
            "\u001b[32;1m\u001b[1;3mGiven the following conversation and a follow up question, rephrase the follow up question to be a standalone question, in its original language.\n",
            "\n",
            "Chat History:\n",
            "[HumanMessage(content='Who are you by the way?'), AIMessage(content='<pad> I  am  an  AI  assistant  created  by  Google  that  can  assist  you  with  information  about  the  Asian  Institute  of  Technology  (AIT).  I  am  designed  to  provide  helpful  and  informative  responses  to  your  questions  about  AIT.  How  can  I  assist  you  today?\\n'), HumanMessage(content='How many Academic Program?'), AIMessage(content='<pad> AIT  offers  a  total  of  62  academic  programs,  including  undergraduate,  graduate,  and  postgraduate  degrees.\\n')]\n",
            "Follow Up Input: How many school in AIT?\n",
            "Standalone question:\u001b[0m\n",
            "\n",
            "\u001b[1m> Finished chain.\u001b[0m\n",
            "\n",
            "\n",
            "\u001b[1m> Entering new StuffDocumentsChain chain...\u001b[0m\n",
            "\n",
            "\n",
            "\u001b[1m> Entering new LLMChain chain...\u001b[0m\n",
            "Prompt after formatting:\n",
            "\u001b[32;1m\u001b[1;3m**Welcome to AIT-GPT!**  I'm your friendly AI assistant for all things AIT. \n",
            "\n",
            "**Ask me anything related to the Asian Institute of Technology:** Whether you're curious about academic programs, research areas, faculty expertise, or campus life, I'm here to help! \n",
            "\n",
            "**For the best results, try using specific keywords or phrases** related to your question. \n",
            "\n",
            "**Here are some examples to get you started:**\n",
            "\n",
            "* What are the admission requirements for international students?\n",
            "* What are the current research areas at AIT?\n",
            "* Can you tell me more about the faculty in the School of Engineering and Technology?\n",
            "* When was AIT founded?\n",
            "* What are some of the student clubs and organizations available at AIT?\n",
            "\n",
            "**Now, ask your question!** \n",
            "**Context: a self-contained international community with a cosmopolitan approach to living and \n",
            "learning. \n",
            " \n",
            "Since 1959, AIT has carried out its mission “to develop highly qualified and committed \n",
            "professionals who play a leading role in the region’s sustainable development and its \n",
            "integration into the global economy” by supporting technological change and \n",
            "sustainable development through higher learning, research, capacity building and \n",
            "outreach. \n",
            " \n",
            "AIT’s renowned degree programs are administered by its School of Engineering and \n",
            "Technology; School of Environment, Resources and Development; and School of \n",
            "Management. Students benefit from challenging academic programs and exciting\n",
            "\n",
            "AIT’s main campus offers fast and easy access to Bangkok, a city at the crossroads of \n",
            "East, Southeast and South Asia. AIT has also established a key learning center in \n",
            "Vietnam. \n",
            " \n",
            "With friends all over the globe, a strong history of academic excellence, and an \n",
            "enduring reputation for responding to emerging regional and global challenges such as \n",
            "climate change and sustainability, AIT is advancing new understanding and applying \n",
            "relevant technological solutions across Asia through its knowledge hub in Thailand. \n",
            " \n",
            "AIT Quick Facts \n",
            "Students: 1,400+ from 40+ countries \n",
            "Faculty: 134 internationally recruited Faculty from 20+ countries\n",
            "\n",
            "for the trustees, faculty, students, alumni, staff and visiting faculty. \n",
            "● \n",
            "117 guest rooms categorized as suites, superior and standard rooms \n",
            "● \n",
            "500 seat tier auditorium and 15 meeting rooms of various sizes, which \n",
            "is fully equipped and state-of-the art perfect for holding big conferences, \n",
            "workshops and other social gatherings \n",
            "● \n",
            "Dining facility with selection of international cuisine and buffet lunch \n",
            "served every Tuesdays and Fridays, Noodle buffet on Wednesday and \n",
            "other set Thai and western menu of the other days \n",
            "With a special discount for AIT students upon presentation of ID, the main \n",
            "dining facility is open every day from 6:30 a.m. until 9:00 p.m. Aside from\n",
            "\n",
            "For information about the AIT International School (AITIS), please visit the school’s \n",
            "website at www.aitis.ait.ac.th or contact     AITIS Office 5984. \n",
            " \n",
            " \n",
            "AIT Medical Center Services \n",
            " \n",
            " \n",
            "The mission of the AIT Medical Center is to provide the best possible medical care to \n",
            "AIT students and the members of the Institute staff.  In addition, the general medical \n",
            "care given by the general practitioner, the Medical Center also provides consultations \n",
            "in ENT (Ear, Nose, Throat) and physical rehabilitation. The clinic hours are as follows:**\n",
            "**Question: <pad> How  many  schools  are  there  at  AIT?\n",
            "**\n",
            "    \n",
            "**Answer:**\u001b[0m\n",
            "\n",
            "\u001b[1m> Finished chain.\u001b[0m\n",
            "\n",
            "\u001b[1m> Finished chain.\u001b[0m\n",
            "\n",
            "\u001b[1m> Finished chain.\u001b[0m\n"
          ]
        },
        {
          "output_type": "execute_result",
          "data": {
            "text/plain": [
              "{'question': 'How many school in AIT?',\n",
              " 'chat_history': [HumanMessage(content='Who are you by the way?'),\n",
              "  AIMessage(content='<pad> I  am  an  AI  assistant  created  by  Google  that  can  assist  you  with  information  about  the  Asian  Institute  of  Technology  (AIT).  I  am  designed  to  provide  helpful  and  informative  responses  to  your  questions  about  AIT.  How  can  I  assist  you  today?\\n'),\n",
              "  HumanMessage(content='How many Academic Program?'),\n",
              "  AIMessage(content='<pad> AIT  offers  a  total  of  62  academic  programs,  including  undergraduate,  graduate,  and  postgraduate  degrees.\\n')],\n",
              " 'answer': '<pad> There  are  three  schools  at  AIT:  School  of  Engineering  and  Technology,  School  of  Environment,  Resources  and  Development,  and  School  of  Management.\\n',\n",
              " 'source_documents': [Document(page_content='a self-contained international community with a cosmopolitan approach to living and \\nlearning. \\n \\nSince 1959, AIT has carried out its mission “to develop highly qualified and committed \\nprofessionals who play a leading role in the region’s sustainable development and its \\nintegration into the global economy” by supporting technological change and \\nsustainable development through higher learning, research, capacity building and \\noutreach. \\n \\nAIT’s renowned degree programs are administered by its School of Engineering and \\nTechnology; School of Environment, Resources and Development; and School of \\nManagement. Students benefit from challenging academic programs and exciting', metadata={'source': 'Student-Handbook_August-2023-Semester_FINAL_as-of-8-Aug-2023.pdf', 'file_path': 'Student-Handbook_August-2023-Semester_FINAL_as-of-8-Aug-2023.pdf', 'page': 2, 'total_pages': 95, 'format': 'PDF 1.4', 'title': '(\\\\(NDIJobGUID=fb11135f-67cd-4d80-beec-458427a81384\\\\)Microsoft Word - Student Handbook_August 2023 Semester_FINAL_as of 8 Aug 2023)', 'author': 'Pwint', 'subject': '', 'keywords': '', 'creator': 'PScript5.dll Version 5.2.2', 'producer': 'GPL Ghostscript 9.06', 'creationDate': \"D:20230809142824+07'00'\", 'modDate': \"D:20230809142824+07'00'\", 'trapped': ''}),\n",
              "  Document(page_content='AIT’s main campus offers fast and easy access to Bangkok, a city at the crossroads of \\nEast, Southeast and South Asia. AIT has also established a key learning center in \\nVietnam. \\n \\nWith friends all over the globe, a strong history of academic excellence, and an \\nenduring reputation for responding to emerging regional and global challenges such as \\nclimate change and sustainability, AIT is advancing new understanding and applying \\nrelevant technological solutions across Asia through its knowledge hub in Thailand. \\n \\nAIT Quick Facts \\nStudents: 1,400+ from 40+ countries \\nFaculty: 134 internationally recruited Faculty from 20+ countries', metadata={'source': 'Student-Handbook_August-2023-Semester_FINAL_as-of-8-Aug-2023.pdf', 'file_path': 'Student-Handbook_August-2023-Semester_FINAL_as-of-8-Aug-2023.pdf', 'page': 2, 'total_pages': 95, 'format': 'PDF 1.4', 'title': '(\\\\(NDIJobGUID=fb11135f-67cd-4d80-beec-458427a81384\\\\)Microsoft Word - Student Handbook_August 2023 Semester_FINAL_as of 8 Aug 2023)', 'author': 'Pwint', 'subject': '', 'keywords': '', 'creator': 'PScript5.dll Version 5.2.2', 'producer': 'GPL Ghostscript 9.06', 'creationDate': \"D:20230809142824+07'00'\", 'modDate': \"D:20230809142824+07'00'\", 'trapped': ''}),\n",
              "  Document(page_content='for the trustees, faculty, students, alumni, staff and visiting faculty. \\n● \\n117 guest rooms categorized as suites, superior and standard rooms \\n● \\n500 seat tier auditorium and 15 meeting rooms of various sizes, which \\nis fully equipped and state-of-the art perfect for holding big conferences, \\nworkshops and other social gatherings \\n● \\nDining facility with selection of international cuisine and buffet lunch \\nserved every Tuesdays and Fridays, Noodle buffet on Wednesday and \\nother set Thai and western menu of the other days \\nWith a special discount for AIT students upon presentation of ID, the main \\ndining facility is open every day from 6:30 a.m. until 9:00 p.m. Aside from', metadata={'source': 'Student-Handbook_August-2023-Semester_FINAL_as-of-8-Aug-2023.pdf', 'file_path': 'Student-Handbook_August-2023-Semester_FINAL_as-of-8-Aug-2023.pdf', 'page': 66, 'total_pages': 95, 'format': 'PDF 1.4', 'title': '(\\\\(NDIJobGUID=fb11135f-67cd-4d80-beec-458427a81384\\\\)Microsoft Word - Student Handbook_August 2023 Semester_FINAL_as of 8 Aug 2023)', 'author': 'Pwint', 'subject': '', 'keywords': '', 'creator': 'PScript5.dll Version 5.2.2', 'producer': 'GPL Ghostscript 9.06', 'creationDate': \"D:20230809142824+07'00'\", 'modDate': \"D:20230809142824+07'00'\", 'trapped': ''}),\n",
              "  Document(page_content='For information about the AIT International School (AITIS), please visit the school’s \\nwebsite at www.aitis.ait.ac.th or contact     AITIS Office 5984. \\n \\n \\nAIT Medical Center Services \\n \\n \\nThe mission of the AIT Medical Center is to provide the best possible medical care to \\nAIT students and the members of the Institute staff.  In addition, the general medical \\ncare given by the general practitioner, the Medical Center also provides consultations \\nin ENT (Ear, Nose, Throat) and physical rehabilitation. The clinic hours are as follows:', metadata={'source': 'Student-Handbook_August-2023-Semester_FINAL_as-of-8-Aug-2023.pdf', 'file_path': 'Student-Handbook_August-2023-Semester_FINAL_as-of-8-Aug-2023.pdf', 'page': 79, 'total_pages': 95, 'format': 'PDF 1.4', 'title': '(\\\\(NDIJobGUID=fb11135f-67cd-4d80-beec-458427a81384\\\\)Microsoft Word - Student Handbook_August 2023 Semester_FINAL_as of 8 Aug 2023)', 'author': 'Pwint', 'subject': '', 'keywords': '', 'creator': 'PScript5.dll Version 5.2.2', 'producer': 'GPL Ghostscript 9.06', 'creationDate': \"D:20230809142824+07'00'\", 'modDate': \"D:20230809142824+07'00'\", 'trapped': ''})]}"
            ]
          },
          "metadata": {},
          "execution_count": 37
        }
      ],
      "source": [
        "prompt_question = \"How many school in AIT?\"\n",
        "answer = chain({\"question\":prompt_question})\n",
        "answer"
      ]
    },
    {
      "cell_type": "markdown",
      "source": [
        "## 6. Analysis"
      ],
      "metadata": {
        "id": "nDMEmPbZ-nat"
      }
    },
    {
      "cell_type": "markdown",
      "source": [
        "### General Retrieval Performance"
      ],
      "metadata": {
        "id": "wlmgnLPC-4Cx"
      }
    },
    {
      "cell_type": "code",
      "source": [
        "# Non-Data Provided Questions\n",
        "prompt_question = \"Who is the current president of AIT?\"\n",
        "answer = chain({\"question\":prompt_question})\n",
        "answer[\"answer\"]"
      ],
      "metadata": {
        "colab": {
          "base_uri": "https://localhost:8080/",
          "height": 1000
        },
        "id": "KW4K34Nz-U_L",
        "outputId": "aeeefbaa-f4d5-4fea-9ead-2f50d0ced256"
      },
      "execution_count": 38,
      "outputs": [
        {
          "output_type": "stream",
          "name": "stdout",
          "text": [
            "\n",
            "\n",
            "\u001b[1m> Entering new ConversationalRetrievalChain chain...\u001b[0m\n",
            "\n",
            "\n",
            "\u001b[1m> Entering new LLMChain chain...\u001b[0m\n",
            "Prompt after formatting:\n",
            "\u001b[32;1m\u001b[1;3mGiven the following conversation and a follow up question, rephrase the follow up question to be a standalone question, in its original language.\n",
            "\n",
            "Chat History:\n",
            "[HumanMessage(content='Who are you by the way?'), AIMessage(content='<pad> I  am  an  AI  assistant  created  by  Google  that  can  assist  you  with  information  about  the  Asian  Institute  of  Technology  (AIT).  I  am  designed  to  provide  helpful  and  informative  responses  to  your  questions  about  AIT.  How  can  I  assist  you  today?\\n'), HumanMessage(content='How many Academic Program?'), AIMessage(content='<pad> AIT  offers  a  total  of  62  academic  programs,  including  undergraduate,  graduate,  and  postgraduate  degrees.\\n'), HumanMessage(content='How many school in AIT?'), AIMessage(content='<pad> There  are  three  schools  at  AIT:  School  of  Engineering  and  Technology,  School  of  Environment,  Resources  and  Development,  and  School  of  Management.\\n')]\n",
            "Follow Up Input: Who is the current president of AIT?\n",
            "Standalone question:\u001b[0m\n",
            "\n",
            "\u001b[1m> Finished chain.\u001b[0m\n",
            "\n",
            "\n",
            "\u001b[1m> Entering new StuffDocumentsChain chain...\u001b[0m\n",
            "\n",
            "\n",
            "\u001b[1m> Entering new LLMChain chain...\u001b[0m\n",
            "Prompt after formatting:\n",
            "\u001b[32;1m\u001b[1;3m**Welcome to AIT-GPT!**  I'm your friendly AI assistant for all things AIT. \n",
            "\n",
            "**Ask me anything related to the Asian Institute of Technology:** Whether you're curious about academic programs, research areas, faculty expertise, or campus life, I'm here to help! \n",
            "\n",
            "**For the best results, try using specific keywords or phrases** related to your question. \n",
            "\n",
            "**Here are some examples to get you started:**\n",
            "\n",
            "* What are the admission requirements for international students?\n",
            "* What are the current research areas at AIT?\n",
            "* Can you tell me more about the faculty in the School of Engineering and Technology?\n",
            "* When was AIT founded?\n",
            "* What are some of the student clubs and organizations available at AIT?\n",
            "\n",
            "**Now, ask your question!** \n",
            "**Context: requirements made under the authority of this policy. \n",
            "5. In discharging his/her responsibility to implement this Policy, the President may \n",
            "be assisted by the Campus Environment and Development Committee. \n",
            "6. The Institute Master Plan is now four decades old, and no longer a relevant \n",
            "guide for the development of the campus. A task force has been appointed by \n",
            "the President to update the plan, providing a framework for enabling AIT to \n",
            "develop its campus as a model of good environmental practice and governance, \n",
            "and a framework for investment. \n",
            "7. In order to establish action plans for improvements, a number of other policies\n",
            "\n",
            "administration and based on the email received from the January 2023 \n",
            "Semester SU Election Committee dated  27th July 2023, has resulted to \n",
            "establish a  Student Representative (SR) for the August 2023 Semester. \n",
            "This is to smoothly coordinate and execute the activities of the student \n",
            "community of AIT. The Student Representative can be reached by email: \n",
            "sraug23@ait.ac.th.\n",
            "\n",
            "(https://www.ait.ac.th). For content updates, please send an email to Public Affairs. \n",
            "  \n",
            "Contact: Public Affairs office is located on the second floor of the Administration \n",
            "Building. \n",
            "Phone:02-524-5830 \n",
            "Email: opa@ait.ac.th\n",
            "\n",
            "pursuit of a high level of academic, non-academic, extracurricular, cultural, \n",
            "recreational, and learning environment. The SU also helps provide an \n",
            "opportunity for everyone to mix with fellow students from other countries and \n",
            "appreciate their cultures. \n",
            " \n",
            "All full-time students are members of the AIT Student Union, and are entitled \n",
            "to vote in the election for the General Assembly Speaker, Treasurer, General \n",
            "Secretary and Vice President. The Vice President becomes President of the SU \n",
            "in the succeeding semester. The Student Union operates with the following \n",
            "committees: Academic Affairs, Accommodation and Reservation, Campus and**\n",
            "**Question: <pad>  Who  is  the  current  president  of  AIT?\n",
            "**\n",
            "    \n",
            "**Answer:**\u001b[0m\n",
            "\n",
            "\u001b[1m> Finished chain.\u001b[0m\n",
            "\n",
            "\u001b[1m> Finished chain.\u001b[0m\n",
            "\n",
            "\u001b[1m> Finished chain.\u001b[0m\n"
          ]
        },
        {
          "output_type": "execute_result",
          "data": {
            "text/plain": [
              "'<pad> The  current  president  of  AIT  is  Dr.  Suthep  Chaiyapong.\\n'"
            ],
            "application/vnd.google.colaboratory.intrinsic+json": {
              "type": "string"
            }
          },
          "metadata": {},
          "execution_count": 38
        }
      ]
    },
    {
      "cell_type": "code",
      "source": [
        "# Factual Questions\n",
        "prompt_question = \"What is the year AIT was founded?\"\n",
        "answer = chain({\"question\":prompt_question})\n",
        "answer[\"answer\"]"
      ],
      "metadata": {
        "colab": {
          "base_uri": "https://localhost:8080/",
          "height": 1000
        },
        "id": "EgDaBkM7A_AI",
        "outputId": "cc38663b-db3c-4560-d8f7-8b389a61aba4"
      },
      "execution_count": 39,
      "outputs": [
        {
          "output_type": "stream",
          "name": "stdout",
          "text": [
            "\n",
            "\n",
            "\u001b[1m> Entering new ConversationalRetrievalChain chain...\u001b[0m\n",
            "\n",
            "\n",
            "\u001b[1m> Entering new LLMChain chain...\u001b[0m\n",
            "Prompt after formatting:\n",
            "\u001b[32;1m\u001b[1;3mGiven the following conversation and a follow up question, rephrase the follow up question to be a standalone question, in its original language.\n",
            "\n",
            "Chat History:\n",
            "[HumanMessage(content='How many Academic Program?'), AIMessage(content='<pad> AIT  offers  a  total  of  62  academic  programs,  including  undergraduate,  graduate,  and  postgraduate  degrees.\\n'), HumanMessage(content='How many school in AIT?'), AIMessage(content='<pad> There  are  three  schools  at  AIT:  School  of  Engineering  and  Technology,  School  of  Environment,  Resources  and  Development,  and  School  of  Management.\\n'), HumanMessage(content='Who is the current president of AIT?'), AIMessage(content='<pad> The  current  president  of  AIT  is  Dr.  Suthep  Chaiyapong.\\n')]\n",
            "Follow Up Input: What is the year AIT was founded?\n",
            "Standalone question:\u001b[0m\n",
            "\n",
            "\u001b[1m> Finished chain.\u001b[0m\n",
            "\n",
            "\n",
            "\u001b[1m> Entering new StuffDocumentsChain chain...\u001b[0m\n",
            "\n",
            "\n",
            "\u001b[1m> Entering new LLMChain chain...\u001b[0m\n",
            "Prompt after formatting:\n",
            "\u001b[32;1m\u001b[1;3m**Welcome to AIT-GPT!**  I'm your friendly AI assistant for all things AIT. \n",
            "\n",
            "**Ask me anything related to the Asian Institute of Technology:** Whether you're curious about academic programs, research areas, faculty expertise, or campus life, I'm here to help! \n",
            "\n",
            "**For the best results, try using specific keywords or phrases** related to your question. \n",
            "\n",
            "**Here are some examples to get you started:**\n",
            "\n",
            "* What are the admission requirements for international students?\n",
            "* What are the current research areas at AIT?\n",
            "* Can you tell me more about the faculty in the School of Engineering and Technology?\n",
            "* When was AIT founded?\n",
            "* What are some of the student clubs and organizations available at AIT?\n",
            "\n",
            "**Now, ask your question!** \n",
            "**Context: a self-contained international community with a cosmopolitan approach to living and \n",
            "learning. \n",
            " \n",
            "Since 1959, AIT has carried out its mission “to develop highly qualified and committed \n",
            "professionals who play a leading role in the region’s sustainable development and its \n",
            "integration into the global economy” by supporting technological change and \n",
            "sustainable development through higher learning, research, capacity building and \n",
            "outreach. \n",
            " \n",
            "AIT’s renowned degree programs are administered by its School of Engineering and \n",
            "Technology; School of Environment, Resources and Development; and School of \n",
            "Management. Students benefit from challenging academic programs and exciting\n",
            "\n",
            "I. INTRODUCING AIT \n",
            " \n",
            " \n",
            "The Asian Institute of Technology (AIT) is a leading international higher learning \n",
            "institute of engineering and technology, environment, resources and development, and \n",
            "management. \n",
            " \n",
            "AIT offers the opportunity to study at an advanced international level at an Asian \n",
            "institution with a strong reputation for applied research. Many progressive \n",
            "developments in the application of engineering, technology, management, and \n",
            "sustainable development have originated at AIT. \n",
            " \n",
            "At its beautiful main campus located just north of Bangkok, Thailand, AIT operates as \n",
            "a self-contained international community with a cosmopolitan approach to living and \n",
            "learning.\n",
            "\n",
            "Advancement and Alumni Affairs (OAAA) have jointly launched a campaign requesting \n",
            "each and every Alumni to provide a one-time contribution towards the AIT Reserve \n",
            "Fund. This Reserve Fund will be different and not intended for AIT operation costs. This \n",
            "will be like an Endowment Fund managed solely by the alumni as seen in other \n",
            "universities. The target is to raise funds of THB 34 Million. \n",
            " \n",
            "ALUMNI AFFAIRS   \n",
            " \n",
            "In its sixty-four years of existence, AIT has produced more than 26,000 alumni from \n",
            "over 100 countries. Since June 2010, the Office of Advancement and Alumni Affairs’ \n",
            "vision is to provide a common platform to promote the common interests of AIT and\n",
            "\n",
            "and reports on the achievements of AIT people: faculty and students, including staff \n",
            "of the institute and centers, on important research findings, innovation, and \n",
            "publications, on major events such as the graduation, seminars, conferences, MOU \n",
            "signing ceremonies, including visits, and other stories of particular interest and \n",
            "relevance. The stories are told in written, still or moving pictures and/or in visual \n",
            "graphics across all its social media platforms and monthly e-newsletter – The \n",
            "Gazette. It also shares these stories with and answers queries from public media \n",
            "around the world. The Weekly AIT Campus Bulletin, which publicizes details of**\n",
            "**Question: <pad> What  year  was  AIT  founded?\n",
            "**\n",
            "    \n",
            "**Answer:**\u001b[0m\n"
          ]
        },
        {
          "output_type": "stream",
          "name": "stderr",
          "text": [
            "/usr/local/lib/python3.10/dist-packages/transformers/pipelines/base.py:1101: UserWarning: You seem to be using the pipelines sequentially on GPU. In order to maximize efficiency please use a dataset\n",
            "  warnings.warn(\n"
          ]
        },
        {
          "output_type": "stream",
          "name": "stdout",
          "text": [
            "\n",
            "\u001b[1m> Finished chain.\u001b[0m\n",
            "\n",
            "\u001b[1m> Finished chain.\u001b[0m\n",
            "\n",
            "\u001b[1m> Finished chain.\u001b[0m\n"
          ]
        },
        {
          "output_type": "execute_result",
          "data": {
            "text/plain": [
              "'<pad>  1959\\n'"
            ],
            "application/vnd.google.colaboratory.intrinsic+json": {
              "type": "string"
            }
          },
          "metadata": {},
          "execution_count": 39
        }
      ]
    },
    {
      "cell_type": "code",
      "source": [
        "#Open Ended Questions\n",
        "prompt_question = \"How does AIT contribute to sustainable development in the region?\"\n",
        "answer = chain({\"question\":prompt_question})\n",
        "answer[\"answer\"]"
      ],
      "metadata": {
        "colab": {
          "base_uri": "https://localhost:8080/",
          "height": 1000
        },
        "id": "i0gsAZ-x_Fan",
        "outputId": "1c5c72fc-109f-4a19-f7a5-655620b0c108"
      },
      "execution_count": 40,
      "outputs": [
        {
          "output_type": "stream",
          "name": "stdout",
          "text": [
            "\n",
            "\n",
            "\u001b[1m> Entering new ConversationalRetrievalChain chain...\u001b[0m\n",
            "\n",
            "\n",
            "\u001b[1m> Entering new LLMChain chain...\u001b[0m\n",
            "Prompt after formatting:\n",
            "\u001b[32;1m\u001b[1;3mGiven the following conversation and a follow up question, rephrase the follow up question to be a standalone question, in its original language.\n",
            "\n",
            "Chat History:\n",
            "[HumanMessage(content='How many school in AIT?'), AIMessage(content='<pad> There  are  three  schools  at  AIT:  School  of  Engineering  and  Technology,  School  of  Environment,  Resources  and  Development,  and  School  of  Management.\\n'), HumanMessage(content='Who is the current president of AIT?'), AIMessage(content='<pad> The  current  president  of  AIT  is  Dr.  Suthep  Chaiyapong.\\n'), HumanMessage(content='What is the year AIT was founded?'), AIMessage(content='<pad>  1959\\n')]\n",
            "Follow Up Input: How does AIT contribute to sustainable development in the region?\n",
            "Standalone question:\u001b[0m\n"
          ]
        },
        {
          "output_type": "stream",
          "name": "stderr",
          "text": [
            "/usr/local/lib/python3.10/dist-packages/transformers/pipelines/base.py:1101: UserWarning: You seem to be using the pipelines sequentially on GPU. In order to maximize efficiency please use a dataset\n",
            "  warnings.warn(\n"
          ]
        },
        {
          "output_type": "stream",
          "name": "stdout",
          "text": [
            "\n",
            "\u001b[1m> Finished chain.\u001b[0m\n",
            "\n",
            "\n",
            "\u001b[1m> Entering new StuffDocumentsChain chain...\u001b[0m\n",
            "\n",
            "\n",
            "\u001b[1m> Entering new LLMChain chain...\u001b[0m\n",
            "Prompt after formatting:\n",
            "\u001b[32;1m\u001b[1;3m**Welcome to AIT-GPT!**  I'm your friendly AI assistant for all things AIT. \n",
            "\n",
            "**Ask me anything related to the Asian Institute of Technology:** Whether you're curious about academic programs, research areas, faculty expertise, or campus life, I'm here to help! \n",
            "\n",
            "**For the best results, try using specific keywords or phrases** related to your question. \n",
            "\n",
            "**Here are some examples to get you started:**\n",
            "\n",
            "* What are the admission requirements for international students?\n",
            "* What are the current research areas at AIT?\n",
            "* Can you tell me more about the faculty in the School of Engineering and Technology?\n",
            "* When was AIT founded?\n",
            "* What are some of the student clubs and organizations available at AIT?\n",
            "\n",
            "**Now, ask your question!** \n",
            "**Context: a self-contained international community with a cosmopolitan approach to living and \n",
            "learning. \n",
            " \n",
            "Since 1959, AIT has carried out its mission “to develop highly qualified and committed \n",
            "professionals who play a leading role in the region’s sustainable development and its \n",
            "integration into the global economy” by supporting technological change and \n",
            "sustainable development through higher learning, research, capacity building and \n",
            "outreach. \n",
            " \n",
            "AIT’s renowned degree programs are administered by its School of Engineering and \n",
            "Technology; School of Environment, Resources and Development; and School of \n",
            "Management. Students benefit from challenging academic programs and exciting\n",
            "\n",
            "7. In order to establish action plans for improvements, a number of other policies \n",
            "such as transport, energy and waste will be developed that outline short, \n",
            "medium and long term objectives and targets to be achieved, and the success \n",
            "of these is reviewed on a regular basis. \n",
            "8. Current policies and procedures that AIT staff need to follow, and more \n",
            "information about what the Institute is doing to improve its environmental \n",
            "performance, may be accessed from the Institute’s Environment web pages. \n",
            "Information on how faculty, staff and students can help the Institute maintain \n",
            "and improve its environment and its performance is also given.\n",
            "\n",
            "VIII. ENVIRONMENT POLICY \n",
            " \n",
            "AIT Environment Policy \n",
            " \n",
            "1. This statement applies to all land, premises and activities within the control of the \n",
            "Institute. \n",
            "2. The Institute is committed to the conservation and improvement of the \n",
            "environment and to minimizing the environmental impacts of risks arising from its \n",
            "activities. \n",
            "3. The Institute will manage its operations in ways that are environmentally \n",
            "sustainable and economically feasible, and that provide appropriate environmental \n",
            "education and training for its employees and students. \n",
            "4. In order to achieve these aims, the Institute has the following key objectives: \n",
            " \n",
            "Objective 1 – Institutional practice \n",
            " \n",
            "The Institute will \n",
            "●\n",
            "\n",
            "I. INTRODUCING AIT \n",
            " \n",
            " \n",
            "The Asian Institute of Technology (AIT) is a leading international higher learning \n",
            "institute of engineering and technology, environment, resources and development, and \n",
            "management. \n",
            " \n",
            "AIT offers the opportunity to study at an advanced international level at an Asian \n",
            "institution with a strong reputation for applied research. Many progressive \n",
            "developments in the application of engineering, technology, management, and \n",
            "sustainable development have originated at AIT. \n",
            " \n",
            "At its beautiful main campus located just north of Bangkok, Thailand, AIT operates as \n",
            "a self-contained international community with a cosmopolitan approach to living and \n",
            "learning.**\n",
            "**Question: <pad> How  does  AIT  contribute  to  sustainable  development  in  the  region?\n",
            "**\n",
            "    \n",
            "**Answer:**\u001b[0m\n"
          ]
        },
        {
          "output_type": "stream",
          "name": "stderr",
          "text": [
            "/usr/local/lib/python3.10/dist-packages/transformers/pipelines/base.py:1101: UserWarning: You seem to be using the pipelines sequentially on GPU. In order to maximize efficiency please use a dataset\n",
            "  warnings.warn(\n"
          ]
        },
        {
          "output_type": "stream",
          "name": "stdout",
          "text": [
            "\n",
            "\u001b[1m> Finished chain.\u001b[0m\n",
            "\n",
            "\u001b[1m> Finished chain.\u001b[0m\n",
            "\n",
            "\u001b[1m> Finished chain.\u001b[0m\n"
          ]
        },
        {
          "output_type": "execute_result",
          "data": {
            "text/plain": [
              "'<pad> AIT  contributes  to  sustainable  development  in  the  region  through  its  mission  of  \"to  develop  highly  qualified  and  committed  professionals  who  play  a  leading  role  in  the  region’s  sustainable  development  and  its  integration  into  the  global  economy\"  by  supporting  technological  change  and  sustainable  development  through  higher  learning,  research,  capacity  building,  and  outreach.  AIT\\'s  renowned  degree  programs  are  administered  by  its  School  of  Engineering  and  Technology;  School  of  Environment,  Resources  and  Development;  and  School  of  Management.  Students  benefit  from  challenging  academic  programs  and  exciting  research  opportunities  in  fields  such  as  renewable  energy,  sustainable  transportation,  and  sustainable  management.  AIT  also  provides  outreach  and  engagement  programs  to  support  sustainable  development  in  the  region,  such  as  capacity  building  workshops  and  seminars,'"
            ],
            "application/vnd.google.colaboratory.intrinsic+json": {
              "type": "string"
            }
          },
          "metadata": {},
          "execution_count": 40
        }
      ]
    },
    {
      "cell_type": "markdown",
      "source": [
        "### Real Example Analysis with AIT-GPT Prompts"
      ],
      "metadata": {
        "id": "tHxDFI_9_Rgs"
      }
    },
    {
      "cell_type": "code",
      "source": [
        "# Retrieval Performance\n",
        "prompt_question = \"What are the admission requirements for international students at AIT?\"\n",
        "answer = chain({\"question\":prompt_question})\n",
        "answer['answer']"
      ],
      "metadata": {
        "colab": {
          "base_uri": "https://localhost:8080/",
          "height": 1000
        },
        "id": "tnnKHffI_QWU",
        "outputId": "c30c8461-aab3-49d0-e552-29eafb77a717"
      },
      "execution_count": 41,
      "outputs": [
        {
          "output_type": "stream",
          "name": "stdout",
          "text": [
            "\n",
            "\n",
            "\u001b[1m> Entering new ConversationalRetrievalChain chain...\u001b[0m\n",
            "\n",
            "\n",
            "\u001b[1m> Entering new LLMChain chain...\u001b[0m\n",
            "Prompt after formatting:\n",
            "\u001b[32;1m\u001b[1;3mGiven the following conversation and a follow up question, rephrase the follow up question to be a standalone question, in its original language.\n",
            "\n",
            "Chat History:\n",
            "[HumanMessage(content='Who is the current president of AIT?'), AIMessage(content='<pad> The  current  president  of  AIT  is  Dr.  Suthep  Chaiyapong.\\n'), HumanMessage(content='What is the year AIT was founded?'), AIMessage(content='<pad>  1959\\n'), HumanMessage(content='How does AIT contribute to sustainable development in the region?'), AIMessage(content='<pad> AIT  contributes  to  sustainable  development  in  the  region  through  its  mission  of  \"to  develop  highly  qualified  and  committed  professionals  who  play  a  leading  role  in  the  region’s  sustainable  development  and  its  integration  into  the  global  economy\"  by  supporting  technological  change  and  sustainable  development  through  higher  learning,  research,  capacity  building,  and  outreach.  AIT\\'s  renowned  degree  programs  are  administered  by  its  School  of  Engineering  and  Technology;  School  of  Environment,  Resources  and  Development;  and  School  of  Management.  Students  benefit  from  challenging  academic  programs  and  exciting  research  opportunities  in  fields  such  as  renewable  energy,  sustainable  transportation,  and  sustainable  management.  AIT  also  provides  outreach  and  engagement  programs  to  support  sustainable  development  in  the  region,  such  as  capacity  building  workshops  and  seminars,')]\n",
            "Follow Up Input: What are the admission requirements for international students at AIT?\n",
            "Standalone question:\u001b[0m\n"
          ]
        },
        {
          "output_type": "stream",
          "name": "stderr",
          "text": [
            "/usr/local/lib/python3.10/dist-packages/transformers/pipelines/base.py:1101: UserWarning: You seem to be using the pipelines sequentially on GPU. In order to maximize efficiency please use a dataset\n",
            "  warnings.warn(\n"
          ]
        },
        {
          "output_type": "stream",
          "name": "stdout",
          "text": [
            "\n",
            "\u001b[1m> Finished chain.\u001b[0m\n",
            "\n",
            "\n",
            "\u001b[1m> Entering new StuffDocumentsChain chain...\u001b[0m\n",
            "\n",
            "\n",
            "\u001b[1m> Entering new LLMChain chain...\u001b[0m\n",
            "Prompt after formatting:\n",
            "\u001b[32;1m\u001b[1;3m**Welcome to AIT-GPT!**  I'm your friendly AI assistant for all things AIT. \n",
            "\n",
            "**Ask me anything related to the Asian Institute of Technology:** Whether you're curious about academic programs, research areas, faculty expertise, or campus life, I'm here to help! \n",
            "\n",
            "**For the best results, try using specific keywords or phrases** related to your question. \n",
            "\n",
            "**Here are some examples to get you started:**\n",
            "\n",
            "* What are the admission requirements for international students?\n",
            "* What are the current research areas at AIT?\n",
            "* Can you tell me more about the faculty in the School of Engineering and Technology?\n",
            "* When was AIT founded?\n",
            "* What are some of the student clubs and organizations available at AIT?\n",
            "\n",
            "**Now, ask your question!** \n",
            "**Context: studies by providing testing services, one-on-one tutorials, language \n",
            "programs, academic writing courses and workshops. \n",
            " \n",
            "English is the official language for all activities at AIT. While some of you are \n",
            "very fluent speakers of English, at AIT all degree program students are \n",
            "expected to become competent academic writers. Therefore, all AIT degree \n",
            "program students are required to fulfill the English requirements before they \n",
            "can graduate. \n",
            " \n",
            "In order to fulfill the English requirements, upon arrival, incoming degree \n",
            "program students who have taken the online AIT English Entry Test (EET) or \n",
            "have submitted a certificate of English Medium Instruction will be required to\n",
            "\n",
            "For non-Thai students, four additional photos must be submitted to the Government \n",
            "Relations Unit for a visa. Please write your full name, AIT School, and Nationality at \n",
            "the back of all photographs. \n",
            " \n",
            "The first day of the semester is normally devoted to student registration and orientation \n",
            "seminars. The second day is for the AIT Writing Test and Library Orientation. All new \n",
            "students are required to attend the orientation seminar. Students who attended the \n",
            "Bridging Program are also required to register and attend the orientation seminar. \n",
            " \n",
            "Students who have submitted all the required documents for admissions and proof of\n",
            "\n",
            "a self-contained international community with a cosmopolitan approach to living and \n",
            "learning. \n",
            " \n",
            "Since 1959, AIT has carried out its mission “to develop highly qualified and committed \n",
            "professionals who play a leading role in the region’s sustainable development and its \n",
            "integration into the global economy” by supporting technological change and \n",
            "sustainable development through higher learning, research, capacity building and \n",
            "outreach. \n",
            " \n",
            "AIT’s renowned degree programs are administered by its School of Engineering and \n",
            "Technology; School of Environment, Resources and Development; and School of \n",
            "Management. Students benefit from challenging academic programs and exciting\n",
            "\n",
            "take the AIT Writing Test (AIT-WT) upon arrival on campus. Students will only be \n",
            "allowed to enroll for courses after they have taken the AIT-WT. \n",
            " \n",
            "Students on AIT Administered Scholarships \n",
            " \n",
            "If you were offered an AIT administered scholarship, please remember that the \n",
            "conditions of the award are not negotiable. The scholarship bursary is only a \n",
            "contribution towards the cost of books, food and miscellaneous expenses. You may find \n",
            "it necessary to supplement this allowance from your own funds. \n",
            " \n",
            "All scholarship recipients are advised to bring advanced personal funds (~US$300-400) \n",
            "to cover at least the first 2 weeks living on campus as the 1st month bursary is normally**\n",
            "**Question: <pad> What  are  the  admission  requirements  for  international  students  at  AIT?\n",
            "**\n",
            "    \n",
            "**Answer:**\u001b[0m\n"
          ]
        },
        {
          "output_type": "stream",
          "name": "stderr",
          "text": [
            "/usr/local/lib/python3.10/dist-packages/transformers/pipelines/base.py:1101: UserWarning: You seem to be using the pipelines sequentially on GPU. In order to maximize efficiency please use a dataset\n",
            "  warnings.warn(\n"
          ]
        },
        {
          "output_type": "stream",
          "name": "stdout",
          "text": [
            "\n",
            "\u001b[1m> Finished chain.\u001b[0m\n",
            "\n",
            "\u001b[1m> Finished chain.\u001b[0m\n",
            "\n",
            "\u001b[1m> Finished chain.\u001b[0m\n"
          ]
        },
        {
          "output_type": "execute_result",
          "data": {
            "text/plain": [
              "'<pad> The  admission  requirements  for  international  students  at  AIT  include:\\n 1.  English  proficiency:  All  degree  program  students  are  required  to  take  the  AIT  English  Entry  Test  (EET)  or  have  a  certificate  of  English  Medium  Instruction  before  they  can  graduate.\\n 2.  High  school  diploma  or  equivalent:  International  students  must  have  a  high  school  diploma  or  equivalent  from  a  recognized  institution  in  their  country.\\n 3.  English  proficiency:  All  degree  program  students  are  required  to  take  the  AIT  Writing  Test  (AIT-WT)  upon  arrival  on  campus.\\n 4.  Proof  of  a  self-contained  international  community:  International  students  must  provide  proof  of  a  self-contained  international  community  with  a  cosmopolitan  approach  to  living  and  learning.\\n 5.  Proof  of  financial '"
            ],
            "application/vnd.google.colaboratory.intrinsic+json": {
              "type": "string"
            }
          },
          "metadata": {},
          "execution_count": 41
        }
      ]
    },
    {
      "cell_type": "code",
      "source": [
        "# Specificity and Relevance\n",
        "prompt_question = \"That's a good start. Can you provide some specific details about the English language proficiency requirements, such as the minimum score needed on the TOEFL or IELTS exams?\"\n",
        "answer = chain({\"question\":prompt_question})\n",
        "answer['answer']"
      ],
      "metadata": {
        "colab": {
          "base_uri": "https://localhost:8080/",
          "height": 1000
        },
        "id": "iDQ_xnTQATHE",
        "outputId": "c765ce85-0aed-4e96-b732-41d3b0caea58"
      },
      "execution_count": 42,
      "outputs": [
        {
          "output_type": "stream",
          "name": "stdout",
          "text": [
            "\n",
            "\n",
            "\u001b[1m> Entering new ConversationalRetrievalChain chain...\u001b[0m\n",
            "\n",
            "\n",
            "\u001b[1m> Entering new LLMChain chain...\u001b[0m\n",
            "Prompt after formatting:\n",
            "\u001b[32;1m\u001b[1;3mGiven the following conversation and a follow up question, rephrase the follow up question to be a standalone question, in its original language.\n",
            "\n",
            "Chat History:\n",
            "[HumanMessage(content='What is the year AIT was founded?'), AIMessage(content='<pad>  1959\\n'), HumanMessage(content='How does AIT contribute to sustainable development in the region?'), AIMessage(content='<pad> AIT  contributes  to  sustainable  development  in  the  region  through  its  mission  of  \"to  develop  highly  qualified  and  committed  professionals  who  play  a  leading  role  in  the  region’s  sustainable  development  and  its  integration  into  the  global  economy\"  by  supporting  technological  change  and  sustainable  development  through  higher  learning,  research,  capacity  building,  and  outreach.  AIT\\'s  renowned  degree  programs  are  administered  by  its  School  of  Engineering  and  Technology;  School  of  Environment,  Resources  and  Development;  and  School  of  Management.  Students  benefit  from  challenging  academic  programs  and  exciting  research  opportunities  in  fields  such  as  renewable  energy,  sustainable  transportation,  and  sustainable  management.  AIT  also  provides  outreach  and  engagement  programs  to  support  sustainable  development  in  the  region,  such  as  capacity  building  workshops  and  seminars,'), HumanMessage(content='What are the admission requirements for international students at AIT?'), AIMessage(content='<pad> The  admission  requirements  for  international  students  at  AIT  include:\\n 1.  English  proficiency:  All  degree  program  students  are  required  to  take  the  AIT  English  Entry  Test  (EET)  or  have  a  certificate  of  English  Medium  Instruction  before  they  can  graduate.\\n 2.  High  school  diploma  or  equivalent:  International  students  must  have  a  high  school  diploma  or  equivalent  from  a  recognized  institution  in  their  country.\\n 3.  English  proficiency:  All  degree  program  students  are  required  to  take  the  AIT  Writing  Test  (AIT-WT)  upon  arrival  on  campus.\\n 4.  Proof  of  a  self-contained  international  community:  International  students  must  provide  proof  of  a  self-contained  international  community  with  a  cosmopolitan  approach  to  living  and  learning.\\n 5.  Proof  of  financial ')]\n",
            "Follow Up Input: That's a good start. Can you provide some specific details about the English language proficiency requirements, such as the minimum score needed on the TOEFL or IELTS exams?\n",
            "Standalone question:\u001b[0m\n"
          ]
        },
        {
          "output_type": "stream",
          "name": "stderr",
          "text": [
            "/usr/local/lib/python3.10/dist-packages/transformers/pipelines/base.py:1101: UserWarning: You seem to be using the pipelines sequentially on GPU. In order to maximize efficiency please use a dataset\n",
            "  warnings.warn(\n"
          ]
        },
        {
          "output_type": "stream",
          "name": "stdout",
          "text": [
            "\n",
            "\u001b[1m> Finished chain.\u001b[0m\n",
            "\n",
            "\n",
            "\u001b[1m> Entering new StuffDocumentsChain chain...\u001b[0m\n",
            "\n",
            "\n",
            "\u001b[1m> Entering new LLMChain chain...\u001b[0m\n",
            "Prompt after formatting:\n",
            "\u001b[32;1m\u001b[1;3m**Welcome to AIT-GPT!**  I'm your friendly AI assistant for all things AIT. \n",
            "\n",
            "**Ask me anything related to the Asian Institute of Technology:** Whether you're curious about academic programs, research areas, faculty expertise, or campus life, I'm here to help! \n",
            "\n",
            "**For the best results, try using specific keywords or phrases** related to your question. \n",
            "\n",
            "**Here are some examples to get you started:**\n",
            "\n",
            "* What are the admission requirements for international students?\n",
            "* What are the current research areas at AIT?\n",
            "* Can you tell me more about the faculty in the School of Engineering and Technology?\n",
            "* When was AIT founded?\n",
            "* What are some of the student clubs and organizations available at AIT?\n",
            "\n",
            "**Now, ask your question!** \n",
            "**Context: studies by providing testing services, one-on-one tutorials, language \n",
            "programs, academic writing courses and workshops. \n",
            " \n",
            "English is the official language for all activities at AIT. While some of you are \n",
            "very fluent speakers of English, at AIT all degree program students are \n",
            "expected to become competent academic writers. Therefore, all AIT degree \n",
            "program students are required to fulfill the English requirements before they \n",
            "can graduate. \n",
            " \n",
            "In order to fulfill the English requirements, upon arrival, incoming degree \n",
            "program students who have taken the online AIT English Entry Test (EET) or \n",
            "have submitted a certificate of English Medium Instruction will be required to\n",
            "\n",
            "have submitted a certificate of English Medium Instruction will be required to \n",
            "take the AIT Academic Writing Placement Test (AWPT). If you score above a 6.0 \n",
            "on the AWPT, you will automatically be exempted from having to take \n",
            "mandatory EL courses. If you score 5.0, you are required to attend and \n",
            "successfully complete EL 15 and EL 19 before you can graduate. If you score \n",
            "5.5, you are required to attend and successfully complete EL 19 before you can \n",
            "graduate. \n",
            " \n",
            "The following incoming degree students are exempted from taking the AWPT, \n",
            "namely: 1) those who submitted acceptable standardized test scores (IELTS \n",
            "or TOEFL); 2) those who have taken the EET on campus in Thailand and; 3)\n",
            "\n",
            "take the AIT Writing Test (AIT-WT) upon arrival on campus. Students will only be \n",
            "allowed to enroll for courses after they have taken the AIT-WT. \n",
            " \n",
            "Students on AIT Administered Scholarships \n",
            " \n",
            "If you were offered an AIT administered scholarship, please remember that the \n",
            "conditions of the award are not negotiable. The scholarship bursary is only a \n",
            "contribution towards the cost of books, food and miscellaneous expenses. You may find \n",
            "it necessary to supplement this allowance from your own funds. \n",
            " \n",
            "All scholarship recipients are advised to bring advanced personal funds (~US$300-400) \n",
            "to cover at least the first 2 weeks living on campus as the 1st month bursary is normally\n",
            "\n",
            "For non-Thai students, four additional photos must be submitted to the Government \n",
            "Relations Unit for a visa. Please write your full name, AIT School, and Nationality at \n",
            "the back of all photographs. \n",
            " \n",
            "The first day of the semester is normally devoted to student registration and orientation \n",
            "seminars. The second day is for the AIT Writing Test and Library Orientation. All new \n",
            "students are required to attend the orientation seminar. Students who attended the \n",
            "Bridging Program are also required to register and attend the orientation seminar. \n",
            " \n",
            "Students who have submitted all the required documents for admissions and proof of**\n",
            "**Question: <pad>  What  is  the  minimum  score  required  on  the  TOEFL  or  IELTS  exams  for  international  students  at  AIT?\n",
            "**\n",
            "    \n",
            "**Answer:**\u001b[0m\n"
          ]
        },
        {
          "output_type": "stream",
          "name": "stderr",
          "text": [
            "/usr/local/lib/python3.10/dist-packages/transformers/pipelines/base.py:1101: UserWarning: You seem to be using the pipelines sequentially on GPU. In order to maximize efficiency please use a dataset\n",
            "  warnings.warn(\n"
          ]
        },
        {
          "output_type": "stream",
          "name": "stdout",
          "text": [
            "\n",
            "\u001b[1m> Finished chain.\u001b[0m\n",
            "\n",
            "\u001b[1m> Finished chain.\u001b[0m\n",
            "\n",
            "\u001b[1m> Finished chain.\u001b[0m\n"
          ]
        },
        {
          "output_type": "execute_result",
          "data": {
            "text/plain": [
              "\"<pad> The  minimum  score  required  on  the  TOEFL  or  IELTS  exams  for  international  students  at  AIT  is  6.0  on  the  TOEFL  or  6.5  on  the  IELTS.  However,  it's  important  to  note  that  the  specific  requirements  may  vary  depending  on  the  program  and  the  specific  requirements  of  the  program.\\n **Context:  The  minimum  score  required  on  the  TOEFL  or  IELTS  exams  for  international  students  at  AIT  is  6.0  on  the  TOEFL  or  6.5  on  the  IELTS.  However,  it's  important  to  note  that  the  specific  requirements  may  vary  depending  on  the  program  and  the  specific  requirements  of  the  program.\\n **As  an  AI  assistant,  I  don't  have  access  to  the  most  up-to-\""
            ],
            "application/vnd.google.colaboratory.intrinsic+json": {
              "type": "string"
            }
          },
          "metadata": {},
          "execution_count": 42
        }
      ]
    },
    {
      "cell_type": "code",
      "source": [
        "# Error Analysis\n",
        "prompt_question = \"The information about scholarships is helpful, but can you focus on the question about admission requirements first?  For instance, are there any additional documents needed besides transcripts?\"\n",
        "answer = chain({\"question\":prompt_question})\n",
        "answer['answer']"
      ],
      "metadata": {
        "colab": {
          "base_uri": "https://localhost:8080/",
          "height": 1000
        },
        "id": "yU4eRZC8Ae3g",
        "outputId": "e8255f22-4b49-491c-f82a-f1066a4ded2c"
      },
      "execution_count": 43,
      "outputs": [
        {
          "output_type": "stream",
          "name": "stdout",
          "text": [
            "\n",
            "\n",
            "\u001b[1m> Entering new ConversationalRetrievalChain chain...\u001b[0m\n",
            "\n",
            "\n",
            "\u001b[1m> Entering new LLMChain chain...\u001b[0m\n",
            "Prompt after formatting:\n",
            "\u001b[32;1m\u001b[1;3mGiven the following conversation and a follow up question, rephrase the follow up question to be a standalone question, in its original language.\n",
            "\n",
            "Chat History:\n",
            "[HumanMessage(content='How does AIT contribute to sustainable development in the region?'), AIMessage(content='<pad> AIT  contributes  to  sustainable  development  in  the  region  through  its  mission  of  \"to  develop  highly  qualified  and  committed  professionals  who  play  a  leading  role  in  the  region’s  sustainable  development  and  its  integration  into  the  global  economy\"  by  supporting  technological  change  and  sustainable  development  through  higher  learning,  research,  capacity  building,  and  outreach.  AIT\\'s  renowned  degree  programs  are  administered  by  its  School  of  Engineering  and  Technology;  School  of  Environment,  Resources  and  Development;  and  School  of  Management.  Students  benefit  from  challenging  academic  programs  and  exciting  research  opportunities  in  fields  such  as  renewable  energy,  sustainable  transportation,  and  sustainable  management.  AIT  also  provides  outreach  and  engagement  programs  to  support  sustainable  development  in  the  region,  such  as  capacity  building  workshops  and  seminars,'), HumanMessage(content='What are the admission requirements for international students at AIT?'), AIMessage(content='<pad> The  admission  requirements  for  international  students  at  AIT  include:\\n 1.  English  proficiency:  All  degree  program  students  are  required  to  take  the  AIT  English  Entry  Test  (EET)  or  have  a  certificate  of  English  Medium  Instruction  before  they  can  graduate.\\n 2.  High  school  diploma  or  equivalent:  International  students  must  have  a  high  school  diploma  or  equivalent  from  a  recognized  institution  in  their  country.\\n 3.  English  proficiency:  All  degree  program  students  are  required  to  take  the  AIT  Writing  Test  (AIT-WT)  upon  arrival  on  campus.\\n 4.  Proof  of  a  self-contained  international  community:  International  students  must  provide  proof  of  a  self-contained  international  community  with  a  cosmopolitan  approach  to  living  and  learning.\\n 5.  Proof  of  financial '), HumanMessage(content=\"That's a good start. Can you provide some specific details about the English language proficiency requirements, such as the minimum score needed on the TOEFL or IELTS exams?\"), AIMessage(content=\"<pad> The  minimum  score  required  on  the  TOEFL  or  IELTS  exams  for  international  students  at  AIT  is  6.0  on  the  TOEFL  or  6.5  on  the  IELTS.  However,  it's  important  to  note  that  the  specific  requirements  may  vary  depending  on  the  program  and  the  specific  requirements  of  the  program.\\n **Context:  The  minimum  score  required  on  the  TOEFL  or  IELTS  exams  for  international  students  at  AIT  is  6.0  on  the  TOEFL  or  6.5  on  the  IELTS.  However,  it's  important  to  note  that  the  specific  requirements  may  vary  depending  on  the  program  and  the  specific  requirements  of  the  program.\\n **As  an  AI  assistant,  I  don't  have  access  to  the  most  up-to-\")]\n",
            "Follow Up Input: The information about scholarships is helpful, but can you focus on the question about admission requirements first?  For instance, are there any additional documents needed besides transcripts?\n",
            "Standalone question:\u001b[0m\n"
          ]
        },
        {
          "output_type": "stream",
          "name": "stderr",
          "text": [
            "/usr/local/lib/python3.10/dist-packages/transformers/pipelines/base.py:1101: UserWarning: You seem to be using the pipelines sequentially on GPU. In order to maximize efficiency please use a dataset\n",
            "  warnings.warn(\n"
          ]
        },
        {
          "output_type": "stream",
          "name": "stdout",
          "text": [
            "\n",
            "\u001b[1m> Finished chain.\u001b[0m\n",
            "\n",
            "\n",
            "\u001b[1m> Entering new StuffDocumentsChain chain...\u001b[0m\n",
            "\n",
            "\n",
            "\u001b[1m> Entering new LLMChain chain...\u001b[0m\n",
            "Prompt after formatting:\n",
            "\u001b[32;1m\u001b[1;3m**Welcome to AIT-GPT!**  I'm your friendly AI assistant for all things AIT. \n",
            "\n",
            "**Ask me anything related to the Asian Institute of Technology:** Whether you're curious about academic programs, research areas, faculty expertise, or campus life, I'm here to help! \n",
            "\n",
            "**For the best results, try using specific keywords or phrases** related to your question. \n",
            "\n",
            "**Here are some examples to get you started:**\n",
            "\n",
            "* What are the admission requirements for international students?\n",
            "* What are the current research areas at AIT?\n",
            "* Can you tell me more about the faculty in the School of Engineering and Technology?\n",
            "* When was AIT founded?\n",
            "* What are some of the student clubs and organizations available at AIT?\n",
            "\n",
            "**Now, ask your question!** \n",
            "**Context: For non-Thai students, four additional photos must be submitted to the Government \n",
            "Relations Unit for a visa. Please write your full name, AIT School, and Nationality at \n",
            "the back of all photographs. \n",
            " \n",
            "The first day of the semester is normally devoted to student registration and orientation \n",
            "seminars. The second day is for the AIT Writing Test and Library Orientation. All new \n",
            "students are required to attend the orientation seminar. Students who attended the \n",
            "Bridging Program are also required to register and attend the orientation seminar. \n",
            " \n",
            "Students who have submitted all the required documents for admissions and proof of\n",
            "\n",
            "studies by providing testing services, one-on-one tutorials, language \n",
            "programs, academic writing courses and workshops. \n",
            " \n",
            "English is the official language for all activities at AIT. While some of you are \n",
            "very fluent speakers of English, at AIT all degree program students are \n",
            "expected to become competent academic writers. Therefore, all AIT degree \n",
            "program students are required to fulfill the English requirements before they \n",
            "can graduate. \n",
            " \n",
            "In order to fulfill the English requirements, upon arrival, incoming degree \n",
            "program students who have taken the online AIT English Entry Test (EET) or \n",
            "have submitted a certificate of English Medium Instruction will be required to\n",
            "\n",
            "take the AIT Writing Test (AIT-WT) upon arrival on campus. Students will only be \n",
            "allowed to enroll for courses after they have taken the AIT-WT. \n",
            " \n",
            "Students on AIT Administered Scholarships \n",
            " \n",
            "If you were offered an AIT administered scholarship, please remember that the \n",
            "conditions of the award are not negotiable. The scholarship bursary is only a \n",
            "contribution towards the cost of books, food and miscellaneous expenses. You may find \n",
            "it necessary to supplement this allowance from your own funds. \n",
            " \n",
            "All scholarship recipients are advised to bring advanced personal funds (~US$300-400) \n",
            "to cover at least the first 2 weeks living on campus as the 1st month bursary is normally\n",
            "\n",
            "(i) \n",
            "Student visa \n",
            "(ii) \n",
            "Can continue in their current on-campus accommodation unit only if \n",
            "there are no requests for their units. However, they could be allocated \n",
            "or requested for on campus accommodation unit following the queue, \n",
            "but with lower priority. \n",
            "(iii) \n",
            "Continuation of AIT email account which allows access to the Student \n",
            "Information System (SIS) and Internet services \n",
            "(iv) \n",
            "Access to all AIT facilities (School, Library, Sports and Recreation \n",
            "facilities, etc.) \n",
            "Extended students can no longer avail of discount on AITIS fees for their \n",
            "children. \n",
            " \n",
            " \n",
            " \n",
            " \n",
            " \n",
            " \n",
            " \n",
            " \n",
            " \n",
            "(Approved by the AMT on 23 June 2016 meeting)**\n",
            "**Question: <pad>  Are  there  any  additional  documents  needed  besides  transcripts  for  international  students  at  AIT  to  apply  for  admission?\n",
            "**\n",
            "    \n",
            "**Answer:**\u001b[0m\n"
          ]
        },
        {
          "output_type": "stream",
          "name": "stderr",
          "text": [
            "/usr/local/lib/python3.10/dist-packages/transformers/pipelines/base.py:1101: UserWarning: You seem to be using the pipelines sequentially on GPU. In order to maximize efficiency please use a dataset\n",
            "  warnings.warn(\n"
          ]
        },
        {
          "output_type": "stream",
          "name": "stdout",
          "text": [
            "\n",
            "\u001b[1m> Finished chain.\u001b[0m\n",
            "\n",
            "\u001b[1m> Finished chain.\u001b[0m\n",
            "\n",
            "\u001b[1m> Finished chain.\u001b[0m\n"
          ]
        },
        {
          "output_type": "execute_result",
          "data": {
            "text/plain": [
              "'<pad> Yes,  in  addition  to  transcripts,  international  students  at  AIT  are  required  to  submit  four  additional  photos  for  a  visa.  Please  write  your  full  name,  AIT  School,  and  Nationality  at  the  back  of  all  photographs.\\n'"
            ],
            "application/vnd.google.colaboratory.intrinsic+json": {
              "type": "string"
            }
          },
          "metadata": {},
          "execution_count": 43
        }
      ]
    }
  ],
  "metadata": {
    "kernelspec": {
      "display_name": "Python 3",
      "name": "python3"
    },
    "language_info": {
      "codemirror_mode": {
        "name": "ipython",
        "version": 3
      },
      "file_extension": ".py",
      "mimetype": "text/x-python",
      "name": "python",
      "nbconvert_exporter": "python",
      "pygments_lexer": "ipython3",
      "version": "3.10.12"
    },
    "colab": {
      "provenance": [],
      "gpuType": "T4"
    },
    "accelerator": "GPU"
  },
  "nbformat": 4,
  "nbformat_minor": 0
}